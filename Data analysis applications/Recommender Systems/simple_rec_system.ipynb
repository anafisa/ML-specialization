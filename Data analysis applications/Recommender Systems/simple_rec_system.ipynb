{
 "cells": [
  {
   "cell_type": "markdown",
   "id": "laden-money",
   "metadata": {
    "papermill": {
     "duration": 0.020109,
     "end_time": "2021-05-11T20:54:43.666334",
     "exception": false,
     "start_time": "2021-05-11T20:54:43.646225",
     "status": "completed"
    },
    "tags": []
   },
   "source": [
    "# Соревнование по Machine Learning\n",
    "# Задача по рекомендательным системам\n",
    "\n",
    "В данном задании вам предстоит построить рекомендательную систему для образовательной онлайн платформы **Отус**. А именно, вам необходимо обучить модель, которая для каждого пользователя (имя пользователя закодировано через `user_id`) будет рекомендовать ему 3 курса (`course_id`) из тех, которые он еще не слушал. При этом модель должна уметь работать как со старыми пользователями, так и с новыми, которые еще не приобрели ни одного курса.\n",
    "\n",
    "## Данные\n",
    "Для построения модели вам будут доступны различные данные о взятых пользователями курсах, выполненных домашних заданиях и тестах.\n",
    "\n",
    "Архив с данными содержит следующие файлы.\n",
    "\n",
    "### Обучающие данные\n",
    "\n",
    "- **user_course_train.csv** - таблица пользователь-курс, **основная таблица** с информацией о взятых пользователями курсах \n",
    "\n",
    "\n",
    "- **assessment_train.csv** - информация о том какие тесты и с каким результатом прошел пользователь\n",
    "\n",
    "- **course.csv** - информация обо всех курсах \n",
    "\n",
    "- **lessons_homework_train.csv** - информация о всех сданных домашних работах\n",
    "\n",
    "- **sample_submission.csv** - пример сабмита\n",
    "\n",
    "\n",
    "###  Тестовые данные\n",
    "\n",
    "- **test_ids.txt** - список пользователей (`user_id`) для которых необходимо сделать предсказания"
   ]
  },
  {
   "cell_type": "code",
   "execution_count": 1,
   "id": "front-hormone",
   "metadata": {
    "execution": {
     "iopub.execute_input": "2021-05-11T20:54:43.710440Z",
     "iopub.status.busy": "2021-05-11T20:54:43.709080Z",
     "iopub.status.idle": "2021-05-11T20:54:43.712662Z",
     "shell.execute_reply": "2021-05-11T20:54:43.713165Z"
    },
    "papermill": {
     "duration": 0.026902,
     "end_time": "2021-05-11T20:54:43.713477",
     "exception": false,
     "start_time": "2021-05-11T20:54:43.686575",
     "status": "completed"
    },
    "tags": []
   },
   "outputs": [],
   "source": [
    "import pandas as pd"
   ]
  },
  {
   "cell_type": "markdown",
   "id": "reserved-dancing",
   "metadata": {
    "papermill": {
     "duration": 0.018693,
     "end_time": "2021-05-11T20:54:43.750987",
     "exception": false,
     "start_time": "2021-05-11T20:54:43.732294",
     "status": "completed"
    },
    "tags": []
   },
   "source": [
    "**user_course_train.csv**\n",
    "\n",
    "\n",
    "Таблица пользователь-курс, **основная таблица** с информацией о взятых пользователями курсах \n",
    "\n",
    "К наиболее важным колонкам относятся:\n",
    "- user_id - уникальный идентификатор пользователя\n",
    "- item_id - уникальный идетификатор курса"
   ]
  },
  {
   "cell_type": "code",
   "execution_count": 2,
   "id": "moving-taste",
   "metadata": {
    "execution": {
     "iopub.execute_input": "2021-05-11T20:54:43.791968Z",
     "iopub.status.busy": "2021-05-11T20:54:43.791328Z",
     "iopub.status.idle": "2021-05-11T20:54:44.062574Z",
     "shell.execute_reply": "2021-05-11T20:54:44.061982Z"
    },
    "papermill": {
     "duration": 0.293255,
     "end_time": "2021-05-11T20:54:44.062732",
     "exception": false,
     "start_time": "2021-05-11T20:54:43.769477",
     "status": "completed"
    },
    "tags": []
   },
   "outputs": [
    {
     "data": {
      "text/html": [
       "<div>\n",
       "<style scoped>\n",
       "    .dataframe tbody tr th:only-of-type {\n",
       "        vertical-align: middle;\n",
       "    }\n",
       "\n",
       "    .dataframe tbody tr th {\n",
       "        vertical-align: top;\n",
       "    }\n",
       "\n",
       "    .dataframe thead th {\n",
       "        text-align: right;\n",
       "    }\n",
       "</style>\n",
       "<table border=\"1\" class=\"dataframe\">\n",
       "  <thead>\n",
       "    <tr style=\"text-align: right;\">\n",
       "      <th></th>\n",
       "      <th>user_id</th>\n",
       "      <th>course_id</th>\n",
       "      <th>paid</th>\n",
       "      <th>month_every_discount</th>\n",
       "      <th>full_paid</th>\n",
       "      <th>money_used</th>\n",
       "      <th>month_used</th>\n",
       "      <th>id</th>\n",
       "      <th>group_id</th>\n",
       "      <th>hidden_description</th>\n",
       "      <th>...</th>\n",
       "      <th>max_residual_discount</th>\n",
       "      <th>residual_discount</th>\n",
       "      <th>residual_percent_discount</th>\n",
       "      <th>show_project_work</th>\n",
       "      <th>show_sign</th>\n",
       "      <th>show_stamp</th>\n",
       "      <th>subscription_id</th>\n",
       "      <th>certificate_company_title</th>\n",
       "      <th>certificate_company_title_latin</th>\n",
       "      <th>show_company_info</th>\n",
       "    </tr>\n",
       "  </thead>\n",
       "  <tbody>\n",
       "    <tr>\n",
       "      <th>0</th>\n",
       "      <td>4</td>\n",
       "      <td>1</td>\n",
       "      <td>0</td>\n",
       "      <td>0</td>\n",
       "      <td>0</td>\n",
       "      <td>0</td>\n",
       "      <td>0</td>\n",
       "      <td>4</td>\n",
       "      <td>NaN</td>\n",
       "      <td>NaN</td>\n",
       "      <td>...</td>\n",
       "      <td>0.30</td>\n",
       "      <td>0</td>\n",
       "      <td>0.00</td>\n",
       "      <td>0</td>\n",
       "      <td>1.0</td>\n",
       "      <td>1</td>\n",
       "      <td>NaN</td>\n",
       "      <td>NaN</td>\n",
       "      <td>NaN</td>\n",
       "      <td>0</td>\n",
       "    </tr>\n",
       "    <tr>\n",
       "      <th>17</th>\n",
       "      <td>81</td>\n",
       "      <td>1</td>\n",
       "      <td>7000</td>\n",
       "      <td>3500</td>\n",
       "      <td>0</td>\n",
       "      <td>0</td>\n",
       "      <td>0</td>\n",
       "      <td>81</td>\n",
       "      <td>57</td>\n",
       "      <td>NaN</td>\n",
       "      <td>...</td>\n",
       "      <td>0.30</td>\n",
       "      <td>0</td>\n",
       "      <td>0.00</td>\n",
       "      <td>0</td>\n",
       "      <td>1.0</td>\n",
       "      <td>1</td>\n",
       "      <td>NaN</td>\n",
       "      <td>NaN</td>\n",
       "      <td>NaN</td>\n",
       "      <td>0</td>\n",
       "    </tr>\n",
       "    <tr>\n",
       "      <th>19</th>\n",
       "      <td>83</td>\n",
       "      <td>1</td>\n",
       "      <td>0</td>\n",
       "      <td>3500</td>\n",
       "      <td>0</td>\n",
       "      <td>0</td>\n",
       "      <td>0</td>\n",
       "      <td>83</td>\n",
       "      <td>NaN</td>\n",
       "      <td>NaN</td>\n",
       "      <td>...</td>\n",
       "      <td>0.30</td>\n",
       "      <td>0</td>\n",
       "      <td>0.00</td>\n",
       "      <td>0</td>\n",
       "      <td>1.0</td>\n",
       "      <td>1</td>\n",
       "      <td>NaN</td>\n",
       "      <td>NaN</td>\n",
       "      <td>NaN</td>\n",
       "      <td>0</td>\n",
       "    </tr>\n",
       "    <tr>\n",
       "      <th>43</th>\n",
       "      <td>120</td>\n",
       "      <td>1</td>\n",
       "      <td>36000</td>\n",
       "      <td>1000</td>\n",
       "      <td>1</td>\n",
       "      <td>0</td>\n",
       "      <td>0</td>\n",
       "      <td>120</td>\n",
       "      <td>191</td>\n",
       "      <td>NaN</td>\n",
       "      <td>...</td>\n",
       "      <td>0.30</td>\n",
       "      <td>0</td>\n",
       "      <td>0.00</td>\n",
       "      <td>1</td>\n",
       "      <td>1.0</td>\n",
       "      <td>1</td>\n",
       "      <td>NaN</td>\n",
       "      <td>NaN</td>\n",
       "      <td>NaN</td>\n",
       "      <td>0</td>\n",
       "    </tr>\n",
       "    <tr>\n",
       "      <th>46</th>\n",
       "      <td>123</td>\n",
       "      <td>1</td>\n",
       "      <td>0</td>\n",
       "      <td>3500</td>\n",
       "      <td>0</td>\n",
       "      <td>0</td>\n",
       "      <td>0</td>\n",
       "      <td>123</td>\n",
       "      <td>NaN</td>\n",
       "      <td>NaN</td>\n",
       "      <td>...</td>\n",
       "      <td>0.30</td>\n",
       "      <td>0</td>\n",
       "      <td>0.00</td>\n",
       "      <td>0</td>\n",
       "      <td>1.0</td>\n",
       "      <td>1</td>\n",
       "      <td>NaN</td>\n",
       "      <td>NaN</td>\n",
       "      <td>NaN</td>\n",
       "      <td>0</td>\n",
       "    </tr>\n",
       "  </tbody>\n",
       "</table>\n",
       "<p>5 rows × 58 columns</p>\n",
       "</div>"
      ],
      "text/plain": [
       "    user_id  course_id   paid month_every_discount  full_paid  money_used  \\\n",
       "0         4          1      0                    0          0           0   \n",
       "17       81          1   7000                 3500          0           0   \n",
       "19       83          1      0                 3500          0           0   \n",
       "43      120          1  36000                 1000          1           0   \n",
       "46      123          1      0                 3500          0           0   \n",
       "\n",
       "    month_used   id group_id hidden_description  ... max_residual_discount  \\\n",
       "0            0    4      NaN                NaN  ...                  0.30   \n",
       "17           0   81       57                NaN  ...                  0.30   \n",
       "19           0   83      NaN                NaN  ...                  0.30   \n",
       "43           0  120      191                NaN  ...                  0.30   \n",
       "46           0  123      NaN                NaN  ...                  0.30   \n",
       "\n",
       "   residual_discount  residual_percent_discount  show_project_work  show_sign  \\\n",
       "0                  0                       0.00                  0        1.0   \n",
       "17                 0                       0.00                  0        1.0   \n",
       "19                 0                       0.00                  0        1.0   \n",
       "43                 0                       0.00                  1        1.0   \n",
       "46                 0                       0.00                  0        1.0   \n",
       "\n",
       "   show_stamp subscription_id certificate_company_title  \\\n",
       "0           1             NaN                       NaN   \n",
       "17          1             NaN                       NaN   \n",
       "19          1             NaN                       NaN   \n",
       "43          1             NaN                       NaN   \n",
       "46          1             NaN                       NaN   \n",
       "\n",
       "   certificate_company_title_latin show_company_info  \n",
       "0                              NaN                 0  \n",
       "17                             NaN                 0  \n",
       "19                             NaN                 0  \n",
       "43                             NaN                 0  \n",
       "46                             NaN                 0  \n",
       "\n",
       "[5 rows x 58 columns]"
      ]
     },
     "execution_count": 2,
     "metadata": {},
     "output_type": "execute_result"
    }
   ],
   "source": [
    "train = pd.read_csv('../input/otus-rec-sys/user_course_train.csv', index_col = 0)\n",
    "train.head()"
   ]
  },
  {
   "cell_type": "markdown",
   "id": "visible-police",
   "metadata": {
    "papermill": {
     "duration": 0.01869,
     "end_time": "2021-05-11T20:54:44.101450",
     "exception": false,
     "start_time": "2021-05-11T20:54:44.082760",
     "status": "completed"
    },
    "tags": []
   },
   "source": [
    "**test**\n",
    "\n",
    "Тестовый набор `user_id` для которого необходимо сделать предсказания."
   ]
  },
  {
   "cell_type": "code",
   "execution_count": 3,
   "id": "critical-morris",
   "metadata": {
    "execution": {
     "iopub.execute_input": "2021-05-11T20:54:44.146114Z",
     "iopub.status.busy": "2021-05-11T20:54:44.145359Z",
     "iopub.status.idle": "2021-05-11T20:54:44.164517Z",
     "shell.execute_reply": "2021-05-11T20:54:44.163956Z"
    },
    "papermill": {
     "duration": 0.042669,
     "end_time": "2021-05-11T20:54:44.164684",
     "exception": false,
     "start_time": "2021-05-11T20:54:44.122015",
     "status": "completed"
    },
    "tags": []
   },
   "outputs": [
    {
     "name": "stdout",
     "output_type": "stream",
     "text": [
      "3910\n"
     ]
    },
    {
     "data": {
      "text/plain": [
       "[163840, 122882, 81926, 8, 73737]"
      ]
     },
     "execution_count": 3,
     "metadata": {},
     "output_type": "execute_result"
    }
   ],
   "source": [
    "test = [int(x) for x in open('../input/otus-rec-sys/test_ids.txt').readlines()]\n",
    "print(len(test))\n",
    "test[:5]"
   ]
  },
  {
   "cell_type": "markdown",
   "id": "dying-samoa",
   "metadata": {
    "papermill": {
     "duration": 0.020092,
     "end_time": "2021-05-11T20:54:44.205602",
     "exception": false,
     "start_time": "2021-05-11T20:54:44.185510",
     "status": "completed"
    },
    "tags": []
   },
   "source": [
    "**course**\n",
    "\n",
    "Таблица содержит расшифровку `course_id` и подробную информацию о курсах."
   ]
  },
  {
   "cell_type": "code",
   "execution_count": 4,
   "id": "incident-information",
   "metadata": {
    "execution": {
     "iopub.execute_input": "2021-05-11T20:54:44.249204Z",
     "iopub.status.busy": "2021-05-11T20:54:44.248510Z",
     "iopub.status.idle": "2021-05-11T20:54:44.362766Z",
     "shell.execute_reply": "2021-05-11T20:54:44.362207Z"
    },
    "papermill": {
     "duration": 0.137367,
     "end_time": "2021-05-11T20:54:44.362920",
     "exception": false,
     "start_time": "2021-05-11T20:54:44.225553",
     "status": "completed"
    },
    "tags": []
   },
   "outputs": [
    {
     "data": {
      "text/html": [
       "<div>\n",
       "<style scoped>\n",
       "    .dataframe tbody tr th:only-of-type {\n",
       "        vertical-align: middle;\n",
       "    }\n",
       "\n",
       "    .dataframe tbody tr th {\n",
       "        vertical-align: top;\n",
       "    }\n",
       "\n",
       "    .dataframe thead th {\n",
       "        text-align: right;\n",
       "    }\n",
       "</style>\n",
       "<table border=\"1\" class=\"dataframe\">\n",
       "  <thead>\n",
       "    <tr style=\"text-align: right;\">\n",
       "      <th></th>\n",
       "      <th>title</th>\n",
       "      <th>salary</th>\n",
       "      <th>enabled</th>\n",
       "      <th>description</th>\n",
       "      <th>icon</th>\n",
       "      <th>assessment_duration</th>\n",
       "      <th>shortname</th>\n",
       "      <th>assessment_min</th>\n",
       "      <th>short_description</th>\n",
       "      <th>program</th>\n",
       "      <th>...</th>\n",
       "      <th>ga_goal_request_without_test_send</th>\n",
       "      <th>ya_goal_request_without_test_not_send</th>\n",
       "      <th>ya_goal_request_without_test_send</th>\n",
       "      <th>text_assessment_before_test_with_test_description</th>\n",
       "      <th>text_assessment_before_test_with_test_header</th>\n",
       "      <th>text_assessment_before_test_without_test_description</th>\n",
       "      <th>text_assessment_before_test_without_test_header</th>\n",
       "      <th>dont_show_in_schedule</th>\n",
       "      <th>tilda_html</th>\n",
       "      <th>tilda_page_id</th>\n",
       "    </tr>\n",
       "    <tr>\n",
       "      <th>id</th>\n",
       "      <th></th>\n",
       "      <th></th>\n",
       "      <th></th>\n",
       "      <th></th>\n",
       "      <th></th>\n",
       "      <th></th>\n",
       "      <th></th>\n",
       "      <th></th>\n",
       "      <th></th>\n",
       "      <th></th>\n",
       "      <th></th>\n",
       "      <th></th>\n",
       "      <th></th>\n",
       "      <th></th>\n",
       "      <th></th>\n",
       "      <th></th>\n",
       "      <th></th>\n",
       "      <th></th>\n",
       "      <th></th>\n",
       "      <th></th>\n",
       "      <th></th>\n",
       "    </tr>\n",
       "  </thead>\n",
       "  <tbody>\n",
       "    <tr>\n",
       "      <th>1</th>\n",
       "      <td>Java Developer. Professional</td>\n",
       "      <td>160000.0</td>\n",
       "      <td>1.0</td>\n",
       "      <td>&lt;p&gt;Вы получите &lt;strong&gt;практику&lt;/strong&gt; решен...</td>\n",
       "      <td>d7/19/d71915b397a94461827988c04e4e9950.png</td>\n",
       "      <td>30.0</td>\n",
       "      <td>Java</td>\n",
       "      <td>8.0</td>\n",
       "      <td>На курсе изучаются особенности языка и платфор...</td>\n",
       "      <td>&lt;ol&gt;\\n&lt;li&gt;    Введение. Обзор и задачи курса. ...</td>\n",
       "      <td>...</td>\n",
       "      <td>NaN</td>\n",
       "      <td>NaN</td>\n",
       "      <td>NaN</td>\n",
       "      <td>NaN</td>\n",
       "      <td>&lt;p&gt;Для начала тестирования необходимо зарегист...</td>\n",
       "      <td>NaN</td>\n",
       "      <td>&lt;p&gt;Для того чтобы оставить заявку, нужно зарег...</td>\n",
       "      <td>0</td>\n",
       "      <td>NaN</td>\n",
       "      <td>NaN</td>\n",
       "    </tr>\n",
       "    <tr>\n",
       "      <th>2</th>\n",
       "      <td>Разработчик Android (deprecated)</td>\n",
       "      <td>140000.0</td>\n",
       "      <td>0.0</td>\n",
       "      <td>Длинное-длинное-длинное описание профессии And...</td>\n",
       "      <td>NaN</td>\n",
       "      <td>30.0</td>\n",
       "      <td>Android</td>\n",
       "      <td>2.0</td>\n",
       "      <td>Короткое описание профессии Android</td>\n",
       "      <td>NaN</td>\n",
       "      <td>...</td>\n",
       "      <td>NaN</td>\n",
       "      <td>NaN</td>\n",
       "      <td>NaN</td>\n",
       "      <td>NaN</td>\n",
       "      <td>NaN</td>\n",
       "      <td>NaN</td>\n",
       "      <td>NaN</td>\n",
       "      <td>0</td>\n",
       "      <td>NaN</td>\n",
       "      <td>NaN</td>\n",
       "    </tr>\n",
       "  </tbody>\n",
       "</table>\n",
       "<p>2 rows × 118 columns</p>\n",
       "</div>"
      ],
      "text/plain": [
       "                               title    salary  enabled  \\\n",
       "id                                                        \n",
       "1       Java Developer. Professional  160000.0      1.0   \n",
       "2   Разработчик Android (deprecated)  140000.0      0.0   \n",
       "\n",
       "                                          description  \\\n",
       "id                                                      \n",
       "1   <p>Вы получите <strong>практику</strong> решен...   \n",
       "2   Длинное-длинное-длинное описание профессии And...   \n",
       "\n",
       "                                          icon  assessment_duration shortname  \\\n",
       "id                                                                              \n",
       "1   d7/19/d71915b397a94461827988c04e4e9950.png                 30.0      Java   \n",
       "2                                          NaN                 30.0   Android   \n",
       "\n",
       "    assessment_min                                  short_description  \\\n",
       "id                                                                      \n",
       "1              8.0  На курсе изучаются особенности языка и платфор...   \n",
       "2              2.0                Короткое описание профессии Android   \n",
       "\n",
       "                                              program  ...  \\\n",
       "id                                                     ...   \n",
       "1   <ol>\\n<li>    Введение. Обзор и задачи курса. ...  ...   \n",
       "2                                                 NaN  ...   \n",
       "\n",
       "   ga_goal_request_without_test_send  ya_goal_request_without_test_not_send  \\\n",
       "id                                                                            \n",
       "1                                NaN                                    NaN   \n",
       "2                                NaN                                    NaN   \n",
       "\n",
       "   ya_goal_request_without_test_send  \\\n",
       "id                                     \n",
       "1                                NaN   \n",
       "2                                NaN   \n",
       "\n",
       "   text_assessment_before_test_with_test_description  \\\n",
       "id                                                     \n",
       "1                                                NaN   \n",
       "2                                                NaN   \n",
       "\n",
       "         text_assessment_before_test_with_test_header  \\\n",
       "id                                                      \n",
       "1   <p>Для начала тестирования необходимо зарегист...   \n",
       "2                                                 NaN   \n",
       "\n",
       "    text_assessment_before_test_without_test_description  \\\n",
       "id                                                         \n",
       "1                                                 NaN      \n",
       "2                                                 NaN      \n",
       "\n",
       "      text_assessment_before_test_without_test_header dont_show_in_schedule  \\\n",
       "id                                                                            \n",
       "1   <p>Для того чтобы оставить заявку, нужно зарег...                     0   \n",
       "2                                                 NaN                     0   \n",
       "\n",
       "   tilda_html tilda_page_id  \n",
       "id                           \n",
       "1         NaN           NaN  \n",
       "2         NaN           NaN  \n",
       "\n",
       "[2 rows x 118 columns]"
      ]
     },
     "execution_count": 4,
     "metadata": {},
     "output_type": "execute_result"
    }
   ],
   "source": [
    "courses = pd.read_csv('../input/otus-rec-sys/course.csv', index_col = 0, sep = ';')\n",
    "courses.head(2)"
   ]
  },
  {
   "cell_type": "markdown",
   "id": "tamil-perception",
   "metadata": {
    "papermill": {
     "duration": 0.020442,
     "end_time": "2021-05-11T20:54:44.404185",
     "exception": false,
     "start_time": "2021-05-11T20:54:44.383743",
     "status": "completed"
    },
    "tags": []
   },
   "source": [
    "**assessment_train**\n",
    "\n",
    "Таблица содержит информацию о том, какие тесты и с каким результатом прошел пользователь."
   ]
  },
  {
   "cell_type": "code",
   "execution_count": 5,
   "id": "blessed-target",
   "metadata": {
    "execution": {
     "iopub.execute_input": "2021-05-11T20:54:44.450916Z",
     "iopub.status.busy": "2021-05-11T20:54:44.450268Z",
     "iopub.status.idle": "2021-05-11T20:54:44.644058Z",
     "shell.execute_reply": "2021-05-11T20:54:44.643444Z"
    },
    "papermill": {
     "duration": 0.219259,
     "end_time": "2021-05-11T20:54:44.644251",
     "exception": false,
     "start_time": "2021-05-11T20:54:44.424992",
     "status": "completed"
    },
    "tags": []
   },
   "outputs": [
    {
     "data": {
      "text/html": [
       "<div>\n",
       "<style scoped>\n",
       "    .dataframe tbody tr th:only-of-type {\n",
       "        vertical-align: middle;\n",
       "    }\n",
       "\n",
       "    .dataframe tbody tr th {\n",
       "        vertical-align: top;\n",
       "    }\n",
       "\n",
       "    .dataframe thead th {\n",
       "        text-align: right;\n",
       "    }\n",
       "</style>\n",
       "<table border=\"1\" class=\"dataframe\">\n",
       "  <thead>\n",
       "    <tr style=\"text-align: right;\">\n",
       "      <th></th>\n",
       "      <th>id</th>\n",
       "      <th>user_id</th>\n",
       "      <th>course_id</th>\n",
       "      <th>start</th>\n",
       "      <th>finish</th>\n",
       "      <th>result</th>\n",
       "      <th>status</th>\n",
       "      <th>group_id</th>\n",
       "      <th>last_update</th>\n",
       "      <th>partner_campaign_id</th>\n",
       "      <th>finish_for_dod</th>\n",
       "      <th>mark</th>\n",
       "      <th>user_session_id</th>\n",
       "      <th>utm</th>\n",
       "      <th>lead_id</th>\n",
       "      <th>visible_mark</th>\n",
       "      <th>parent_id</th>\n",
       "      <th>force_amnesty</th>\n",
       "    </tr>\n",
       "  </thead>\n",
       "  <tbody>\n",
       "    <tr>\n",
       "      <th>5</th>\n",
       "      <td>64</td>\n",
       "      <td>81</td>\n",
       "      <td>1</td>\n",
       "      <td>2016-05-02 09:14:00</td>\n",
       "      <td>05.02.2016 09:44</td>\n",
       "      <td>9</td>\n",
       "      <td>OK</td>\n",
       "      <td>1</td>\n",
       "      <td>0</td>\n",
       "      <td>NaN</td>\n",
       "      <td>05.02.2016 09:44</td>\n",
       "      <td>B</td>\n",
       "      <td>NaN</td>\n",
       "      <td>NaN</td>\n",
       "      <td>NaN</td>\n",
       "      <td>D</td>\n",
       "      <td>NaN</td>\n",
       "      <td>0</td>\n",
       "    </tr>\n",
       "    <tr>\n",
       "      <th>11</th>\n",
       "      <td>86</td>\n",
       "      <td>120</td>\n",
       "      <td>1</td>\n",
       "      <td>2016-05-02 16:04:00</td>\n",
       "      <td>05.02.2016 16:33</td>\n",
       "      <td>9</td>\n",
       "      <td>OK</td>\n",
       "      <td>1</td>\n",
       "      <td>0</td>\n",
       "      <td>NaN</td>\n",
       "      <td>24.05.2018 20:23</td>\n",
       "      <td>B</td>\n",
       "      <td>NaN</td>\n",
       "      <td>NaN</td>\n",
       "      <td>NaN</td>\n",
       "      <td>D</td>\n",
       "      <td>NaN</td>\n",
       "      <td>0</td>\n",
       "    </tr>\n",
       "  </tbody>\n",
       "</table>\n",
       "</div>"
      ],
      "text/plain": [
       "    id  user_id course_id                start            finish result  \\\n",
       "5   64       81         1  2016-05-02 09:14:00  05.02.2016 09:44      9   \n",
       "11  86      120         1  2016-05-02 16:04:00  05.02.2016 16:33      9   \n",
       "\n",
       "   status group_id last_update partner_campaign_id    finish_for_dod mark  \\\n",
       "5      OK        1           0                 NaN  05.02.2016 09:44    B   \n",
       "11     OK        1           0                 NaN  24.05.2018 20:23    B   \n",
       "\n",
       "   user_session_id  utm  lead_id visible_mark parent_id  force_amnesty  \n",
       "5              NaN  NaN      NaN            D       NaN              0  \n",
       "11             NaN  NaN      NaN            D       NaN              0  "
      ]
     },
     "execution_count": 5,
     "metadata": {},
     "output_type": "execute_result"
    }
   ],
   "source": [
    "pd.read_csv('../input/otus-rec-sys/assessment_train.csv', index_col = 0).head(2)"
   ]
  },
  {
   "cell_type": "markdown",
   "id": "passive-confidentiality",
   "metadata": {
    "papermill": {
     "duration": 0.021604,
     "end_time": "2021-05-11T20:54:44.687313",
     "exception": false,
     "start_time": "2021-05-11T20:54:44.665709",
     "status": "completed"
    },
    "tags": []
   },
   "source": [
    "**lessons_homework_train**\n",
    "\n",
    "Таблица содержит информацию о сданных домашних работах."
   ]
  },
  {
   "cell_type": "code",
   "execution_count": 6,
   "id": "opening-question",
   "metadata": {
    "execution": {
     "iopub.execute_input": "2021-05-11T20:54:44.736068Z",
     "iopub.status.busy": "2021-05-11T20:54:44.735409Z",
     "iopub.status.idle": "2021-05-11T20:54:44.962484Z",
     "shell.execute_reply": "2021-05-11T20:54:44.961477Z"
    },
    "papermill": {
     "duration": 0.253363,
     "end_time": "2021-05-11T20:54:44.962640",
     "exception": false,
     "start_time": "2021-05-11T20:54:44.709277",
     "status": "completed"
    },
    "tags": []
   },
   "outputs": [
    {
     "data": {
      "text/html": [
       "<div>\n",
       "<style scoped>\n",
       "    .dataframe tbody tr th:only-of-type {\n",
       "        vertical-align: middle;\n",
       "    }\n",
       "\n",
       "    .dataframe tbody tr th {\n",
       "        vertical-align: top;\n",
       "    }\n",
       "\n",
       "    .dataframe thead th {\n",
       "        text-align: right;\n",
       "    }\n",
       "</style>\n",
       "<table border=\"1\" class=\"dataframe\">\n",
       "  <thead>\n",
       "    <tr style=\"text-align: right;\">\n",
       "      <th></th>\n",
       "      <th>id</th>\n",
       "      <th>points</th>\n",
       "      <th>comment</th>\n",
       "      <th>homework_id</th>\n",
       "      <th>user_id</th>\n",
       "      <th>assignee_id</th>\n",
       "      <th>status</th>\n",
       "      <th>status_update_time</th>\n",
       "      <th>last_message_time</th>\n",
       "      <th>first_attempt_time</th>\n",
       "      <th>is_was_revoked</th>\n",
       "      <th>project_theme</th>\n",
       "      <th>project_theme_status</th>\n",
       "    </tr>\n",
       "  </thead>\n",
       "  <tbody>\n",
       "    <tr>\n",
       "      <th>0</th>\n",
       "      <td>1</td>\n",
       "      <td>0</td>\n",
       "      <td>NaN</td>\n",
       "      <td>20</td>\n",
       "      <td>5950</td>\n",
       "      <td>16</td>\n",
       "      <td>new</td>\n",
       "      <td>2018-02-27 04:30:00</td>\n",
       "      <td>NaN</td>\n",
       "      <td>NaN</td>\n",
       "      <td>0</td>\n",
       "      <td>NaN</td>\n",
       "      <td>new</td>\n",
       "    </tr>\n",
       "    <tr>\n",
       "      <th>4</th>\n",
       "      <td>5</td>\n",
       "      <td>8</td>\n",
       "      <td>NaN</td>\n",
       "      <td>1</td>\n",
       "      <td>800</td>\n",
       "      <td>22</td>\n",
       "      <td>accept</td>\n",
       "      <td>2018-02-27 04:30:00</td>\n",
       "      <td>NaN</td>\n",
       "      <td>NaN</td>\n",
       "      <td>0</td>\n",
       "      <td>NaN</td>\n",
       "      <td>new</td>\n",
       "    </tr>\n",
       "  </tbody>\n",
       "</table>\n",
       "</div>"
      ],
      "text/plain": [
       "  id  points comment homework_id  user_id assignee_id  status  \\\n",
       "0  1       0     NaN          20     5950          16     new   \n",
       "4  5       8     NaN           1      800          22  accept   \n",
       "\n",
       "    status_update_time last_message_time first_attempt_time is_was_revoked  \\\n",
       "0  2018-02-27 04:30:00               NaN                NaN              0   \n",
       "4  2018-02-27 04:30:00               NaN                NaN              0   \n",
       "\n",
       "  project_theme project_theme_status  \n",
       "0           NaN                  new  \n",
       "4           NaN                  new  "
      ]
     },
     "execution_count": 6,
     "metadata": {},
     "output_type": "execute_result"
    }
   ],
   "source": [
    "pd.read_csv('../input/otus-rec-sys/lessons_homework_train.csv', index_col = 0).head(2)"
   ]
  },
  {
   "cell_type": "markdown",
   "id": "simplified-interpretation",
   "metadata": {
    "papermill": {
     "duration": 0.021564,
     "end_time": "2021-05-11T20:54:45.006641",
     "exception": false,
     "start_time": "2021-05-11T20:54:44.985077",
     "status": "completed"
    },
    "tags": []
   },
   "source": [
    "# Baseline\n",
    "\n",
    "В качестве baseline мы предлагаем MostPopular алгоритм, который рекомендует пользователю самые популярные курсы из тех, что он еще не брал. Для данного алгоритма нам понадобится всего две колонки `user_id`,`course_id` из таблицы `user_course`.\n"
   ]
  },
  {
   "cell_type": "code",
   "execution_count": 7,
   "id": "aquatic-queens",
   "metadata": {
    "execution": {
     "iopub.execute_input": "2021-05-11T20:54:45.054764Z",
     "iopub.status.busy": "2021-05-11T20:54:45.054120Z",
     "iopub.status.idle": "2021-05-11T20:54:45.068509Z",
     "shell.execute_reply": "2021-05-11T20:54:45.069170Z"
    },
    "papermill": {
     "duration": 0.040802,
     "end_time": "2021-05-11T20:54:45.069344",
     "exception": false,
     "start_time": "2021-05-11T20:54:45.028542",
     "status": "completed"
    },
    "tags": []
   },
   "outputs": [
    {
     "data": {
      "text/html": [
       "<div>\n",
       "<style scoped>\n",
       "    .dataframe tbody tr th:only-of-type {\n",
       "        vertical-align: middle;\n",
       "    }\n",
       "\n",
       "    .dataframe tbody tr th {\n",
       "        vertical-align: top;\n",
       "    }\n",
       "\n",
       "    .dataframe thead th {\n",
       "        text-align: right;\n",
       "    }\n",
       "</style>\n",
       "<table border=\"1\" class=\"dataframe\">\n",
       "  <thead>\n",
       "    <tr style=\"text-align: right;\">\n",
       "      <th></th>\n",
       "      <th>user_id</th>\n",
       "      <th>course_id</th>\n",
       "    </tr>\n",
       "  </thead>\n",
       "  <tbody>\n",
       "    <tr>\n",
       "      <th>0</th>\n",
       "      <td>4</td>\n",
       "      <td>1</td>\n",
       "    </tr>\n",
       "    <tr>\n",
       "      <th>17</th>\n",
       "      <td>81</td>\n",
       "      <td>1</td>\n",
       "    </tr>\n",
       "    <tr>\n",
       "      <th>19</th>\n",
       "      <td>83</td>\n",
       "      <td>1</td>\n",
       "    </tr>\n",
       "    <tr>\n",
       "      <th>43</th>\n",
       "      <td>120</td>\n",
       "      <td>1</td>\n",
       "    </tr>\n",
       "    <tr>\n",
       "      <th>46</th>\n",
       "      <td>123</td>\n",
       "      <td>1</td>\n",
       "    </tr>\n",
       "  </tbody>\n",
       "</table>\n",
       "</div>"
      ],
      "text/plain": [
       "    user_id  course_id\n",
       "0         4          1\n",
       "17       81          1\n",
       "19       83          1\n",
       "43      120          1\n",
       "46      123          1"
      ]
     },
     "execution_count": 7,
     "metadata": {},
     "output_type": "execute_result"
    }
   ],
   "source": [
    "X = train[['user_id','course_id']].copy().drop_duplicates()\n",
    "X.head()"
   ]
  },
  {
   "cell_type": "markdown",
   "id": "black-lightning",
   "metadata": {
    "papermill": {
     "duration": 0.022378,
     "end_time": "2021-05-11T20:54:45.114296",
     "exception": false,
     "start_time": "2021-05-11T20:54:45.091918",
     "status": "completed"
    },
    "tags": []
   },
   "source": [
    "Для отладки алгоритма разобьем данные на train и test. В baseline решении используется самая простая разбивка (на то это и baseline), возможно, вы захотите сделать что-то более умное, например, учитывающие id юзера."
   ]
  },
  {
   "cell_type": "code",
   "execution_count": 8,
   "id": "conditional-patio",
   "metadata": {
    "execution": {
     "iopub.execute_input": "2021-05-11T20:54:45.162328Z",
     "iopub.status.busy": "2021-05-11T20:54:45.161695Z",
     "iopub.status.idle": "2021-05-11T20:54:46.295910Z",
     "shell.execute_reply": "2021-05-11T20:54:46.296410Z"
    },
    "papermill": {
     "duration": 1.159867,
     "end_time": "2021-05-11T20:54:46.296609",
     "exception": false,
     "start_time": "2021-05-11T20:54:45.136742",
     "status": "completed"
    },
    "tags": []
   },
   "outputs": [
    {
     "name": "stdout",
     "output_type": "stream",
     "text": [
      "(10272, 2) (4403, 2)\n"
     ]
    }
   ],
   "source": [
    "from sklearn.model_selection import train_test_split\n",
    "\n",
    "X_train, y_val = train_test_split(X, random_state= 1, test_size = 0.3)\n",
    "print(X_train.shape, y_val.shape)\n",
    "val_idx = list(sorted(set(y_val.user_id)))"
   ]
  },
  {
   "cell_type": "markdown",
   "id": "intelligent-adapter",
   "metadata": {
    "papermill": {
     "duration": 0.022657,
     "end_time": "2021-05-11T20:54:46.342573",
     "exception": false,
     "start_time": "2021-05-11T20:54:46.319916",
     "status": "completed"
    },
    "tags": []
   },
   "source": [
    "### Most Popular Alogoritm\n",
    "На этапе обучения вычисляет наиболее популярные курсы в обучающих данных, на этапе предсказания - выбирает top popular, из тех которые пользователь еще не брал."
   ]
  },
  {
   "cell_type": "code",
   "execution_count": 9,
   "id": "light-sector",
   "metadata": {
    "execution": {
     "iopub.execute_input": "2021-05-11T20:54:46.398900Z",
     "iopub.status.busy": "2021-05-11T20:54:46.398236Z",
     "iopub.status.idle": "2021-05-11T20:54:46.401505Z",
     "shell.execute_reply": "2021-05-11T20:54:46.400937Z"
    },
    "papermill": {
     "duration": 0.03608,
     "end_time": "2021-05-11T20:54:46.401661",
     "exception": false,
     "start_time": "2021-05-11T20:54:46.365581",
     "status": "completed"
    },
    "tags": []
   },
   "outputs": [],
   "source": [
    "from sklearn.base import BaseEstimator\n",
    "from typing import List\n",
    "\n",
    "class MostPopular(BaseEstimator):\n",
    "    def fit(self, train:pd.DataFrame):\n",
    "        self.most_popular = list(train['course_id'].value_counts().index)\n",
    "        self.users_items = train[['user_id', 'course_id']]\n",
    "        return self\n",
    "    \n",
    "    def predict_items(self, user_id:str, n:int = 3):\n",
    "        taken_courses = set(self.users_items[self.users_items['user_id'] == user_id]['course_id'])\n",
    "        return [x for x in self.most_popular if not x in taken_courses][:n]\n",
    "    \n",
    "    def predict(self, user_ids:List[str], n = 3):\n",
    "        y = [self.predict_items(user_id, n = n) for user_id in user_ids]\n",
    "        return y"
   ]
  },
  {
   "cell_type": "code",
   "execution_count": 10,
   "id": "cutting-chain",
   "metadata": {
    "execution": {
     "iopub.execute_input": "2021-05-11T20:54:46.450902Z",
     "iopub.status.busy": "2021-05-11T20:54:46.450184Z",
     "iopub.status.idle": "2021-05-11T20:54:46.459455Z",
     "shell.execute_reply": "2021-05-11T20:54:46.458863Z"
    },
    "papermill": {
     "duration": 0.034897,
     "end_time": "2021-05-11T20:54:46.459600",
     "exception": false,
     "start_time": "2021-05-11T20:54:46.424703",
     "status": "completed"
    },
    "tags": []
   },
   "outputs": [],
   "source": [
    "# Обучаем модель\n",
    "estimator = MostPopular().fit(X_train)"
   ]
  },
  {
   "cell_type": "markdown",
   "id": "affected-bulgarian",
   "metadata": {
    "papermill": {
     "duration": 0.023539,
     "end_time": "2021-05-11T20:54:46.506497",
     "exception": false,
     "start_time": "2021-05-11T20:54:46.482958",
     "status": "completed"
    },
    "tags": []
   },
   "source": [
    "# Метрика \n",
    "В качестве метрики качества в соревновании используется **MeanAveragePrecision@3**:\n",
    "\n",
    "$$ AveragePrecision@3(user) = \\frac{1}{3}\\sum_{i = 1}^3y_i \\cdot presicion@i(user)$$\n",
    "\n",
    "$y_i \\in {0,1}$ - бинарная метка $i$-го предсказания (верно предсказал/неверно);\n",
    "\n",
    "$presicion@i(user)$ - доля верно предсказанных среди первых $i$ курсов. \n",
    "\n",
    "Итоговая метрика считается усреднением по всем юзерам:\n",
    "\n",
    "$$MeanAveragePrecision@3 = \\frac{1}{|U|}\\sum_{user \\in U} AveragePrecision@3(user) $$\n",
    "\n",
    "Подробное описание метрики можно прочитать тут: https://habr.com/ru/company/econtenta/blog/303458/\n",
    "\n",
    "При оценке используется решения используется реализация метрики из библиотеки `ml_metrics`: https://github.com/benhamner/Metrics/blob/master/Python/ml_metrics/average_precision.py"
   ]
  },
  {
   "cell_type": "code",
   "execution_count": 11,
   "id": "adjacent-jamaica",
   "metadata": {
    "execution": {
     "iopub.execute_input": "2021-05-11T20:54:46.558819Z",
     "iopub.status.busy": "2021-05-11T20:54:46.558088Z",
     "iopub.status.idle": "2021-05-11T20:54:46.561296Z",
     "shell.execute_reply": "2021-05-11T20:54:46.561774Z"
    },
    "papermill": {
     "duration": 0.031513,
     "end_time": "2021-05-11T20:54:46.561958",
     "exception": false,
     "start_time": "2021-05-11T20:54:46.530445",
     "status": "completed"
    },
    "tags": []
   },
   "outputs": [],
   "source": [
    "#!pip install ml_metrics"
   ]
  },
  {
   "cell_type": "code",
   "execution_count": 12,
   "id": "clinical-gregory",
   "metadata": {
    "execution": {
     "iopub.execute_input": "2021-05-11T20:54:46.614807Z",
     "iopub.status.busy": "2021-05-11T20:54:46.614164Z",
     "iopub.status.idle": "2021-05-11T20:54:46.629401Z",
     "shell.execute_reply": "2021-05-11T20:54:46.629891Z"
    },
    "papermill": {
     "duration": 0.044466,
     "end_time": "2021-05-11T20:54:46.630075",
     "exception": false,
     "start_time": "2021-05-11T20:54:46.585609",
     "status": "completed"
    },
    "tags": []
   },
   "outputs": [],
   "source": [
    "from ml_metrics import mapk"
   ]
  },
  {
   "cell_type": "code",
   "execution_count": 13,
   "id": "vulnerable-command",
   "metadata": {
    "execution": {
     "iopub.execute_input": "2021-05-11T20:54:46.683635Z",
     "iopub.status.busy": "2021-05-11T20:54:46.682944Z",
     "iopub.status.idle": "2021-05-11T20:54:50.482051Z",
     "shell.execute_reply": "2021-05-11T20:54:50.481057Z"
    },
    "papermill": {
     "duration": 3.828399,
     "end_time": "2021-05-11T20:54:50.482225",
     "exception": false,
     "start_time": "2021-05-11T20:54:46.653826",
     "status": "completed"
    },
    "tags": []
   },
   "outputs": [
    {
     "data": {
      "text/plain": [
       "([[7, 1, 15], [7, 15, 3], [7, 15, 34]], [[1], [51], [51]])"
      ]
     },
     "execution_count": 13,
     "metadata": {},
     "output_type": "execute_result"
    }
   ],
   "source": [
    "val_preds = estimator.predict(val_idx)\n",
    "y_val_true = [list(set(y_val[y_val.user_id == idx].course_id)) for idx in val_idx]\n",
    "val_preds[:3], y_val_true[:3]"
   ]
  },
  {
   "cell_type": "markdown",
   "id": "intermediate-kitchen",
   "metadata": {
    "papermill": {
     "duration": 0.023419,
     "end_time": "2021-05-11T20:54:50.529687",
     "exception": false,
     "start_time": "2021-05-11T20:54:50.506268",
     "status": "completed"
    },
    "tags": []
   },
   "source": [
    "Помотрим на названия рекомендаций:"
   ]
  },
  {
   "cell_type": "code",
   "execution_count": 14,
   "id": "chief-factor",
   "metadata": {
    "execution": {
     "iopub.execute_input": "2021-05-11T20:54:50.589074Z",
     "iopub.status.busy": "2021-05-11T20:54:50.583504Z",
     "iopub.status.idle": "2021-05-11T20:54:50.612995Z",
     "shell.execute_reply": "2021-05-11T20:54:50.612369Z"
    },
    "papermill": {
     "duration": 0.059539,
     "end_time": "2021-05-11T20:54:50.613158",
     "exception": false,
     "start_time": "2021-05-11T20:54:50.553619",
     "status": "completed"
    },
    "tags": []
   },
   "outputs": [
    {
     "name": "stdout",
     "output_type": "stream",
     "text": [
      "['DevOps практики и инструменты', 'Java Developer. Professional', 'Administrator Linux. Professional']\n"
     ]
    }
   ],
   "source": [
    "id2course = {}\n",
    "for i, row in courses.iterrows():\n",
    "    id2course[i] = row.title\n",
    "    \n",
    "print([id2course[i] for i in val_preds[0]])"
   ]
  },
  {
   "cell_type": "code",
   "execution_count": 15,
   "id": "dense-practitioner",
   "metadata": {
    "execution": {
     "iopub.execute_input": "2021-05-11T20:54:50.672864Z",
     "iopub.status.busy": "2021-05-11T20:54:50.672181Z",
     "iopub.status.idle": "2021-05-11T20:54:50.676562Z",
     "shell.execute_reply": "2021-05-11T20:54:50.676057Z"
    },
    "papermill": {
     "duration": 0.038808,
     "end_time": "2021-05-11T20:54:50.676712",
     "exception": false,
     "start_time": "2021-05-11T20:54:50.637904",
     "status": "completed"
    },
    "tags": []
   },
   "outputs": [
    {
     "name": "stdout",
     "output_type": "stream",
     "text": [
      "MAP@3 = 0.109\n"
     ]
    }
   ],
   "source": [
    "# Вычислим MAP@3\n",
    "print('MAP@3 =', round(mapk(\n",
    "    y_val_true, \n",
    "    val_preds, \n",
    "    k=3\n",
    "),3))"
   ]
  },
  {
   "cell_type": "markdown",
   "id": "reflected-columbia",
   "metadata": {
    "papermill": {
     "duration": 0.024387,
     "end_time": "2021-05-11T20:54:50.725995",
     "exception": false,
     "start_time": "2021-05-11T20:54:50.701608",
     "status": "completed"
    },
    "tags": []
   },
   "source": [
    "# Submission\n",
    "\n",
    "В качестве ответа вам необходимо предоставить `csv` файл с двумя колонками:\n",
    "\n",
    "* **Id** (type int64) с id предсказаний;\n",
    "    \n",
    "* **Predicted** (type string), в которой для каждого юзера должно быть записано топ3 рекомендованных курса. **Курсы должны быть записаны в виде строки через пробел** (Пример: `7 1 15`).\n",
    "    \n",
    "\n",
    "<center> \n",
    "    <table>\n",
    "        <tr>\n",
    "            <th>  </th>\n",
    "            <th> Id </th>\n",
    "            <th> Predicted </th>\n",
    "        </tr> \n",
    "        <tr><td> 0 </td><td> 163840 </td><td> 7 1 15 </td></tr>\n",
    "        <tr><td> 1 </td><td> 122882 </td><td> 7 1 15 </td></tr>\n",
    "        <tr><td> 2 </td><td> 81926 </td><td> 7 1 15 </td></tr>\n",
    "      \n",
    "</center>\n",
    " "
   ]
  },
  {
   "cell_type": "code",
   "execution_count": 16,
   "id": "distinct-tribe",
   "metadata": {
    "execution": {
     "iopub.execute_input": "2021-05-11T20:54:50.780436Z",
     "iopub.status.busy": "2021-05-11T20:54:50.779769Z",
     "iopub.status.idle": "2021-05-11T20:54:53.816644Z",
     "shell.execute_reply": "2021-05-11T20:54:53.815223Z"
    },
    "papermill": {
     "duration": 3.066149,
     "end_time": "2021-05-11T20:54:53.816857",
     "exception": false,
     "start_time": "2021-05-11T20:54:50.750708",
     "status": "completed"
    },
    "tags": []
   },
   "outputs": [],
   "source": [
    "estimator = MostPopular().fit(train)\n",
    "test_preds = estimator.predict(test, n = 3)"
   ]
  },
  {
   "cell_type": "code",
   "execution_count": 17,
   "id": "answering-arrival",
   "metadata": {
    "execution": {
     "iopub.execute_input": "2021-05-11T20:54:53.904768Z",
     "iopub.status.busy": "2021-05-11T20:54:53.889215Z",
     "iopub.status.idle": "2021-05-11T20:54:54.246713Z",
     "shell.execute_reply": "2021-05-11T20:54:54.246071Z"
    },
    "papermill": {
     "duration": 0.403957,
     "end_time": "2021-05-11T20:54:54.246858",
     "exception": false,
     "start_time": "2021-05-11T20:54:53.842901",
     "status": "completed"
    },
    "tags": []
   },
   "outputs": [
    {
     "data": {
      "text/html": [
       "<div>\n",
       "<style scoped>\n",
       "    .dataframe tbody tr th:only-of-type {\n",
       "        vertical-align: middle;\n",
       "    }\n",
       "\n",
       "    .dataframe tbody tr th {\n",
       "        vertical-align: top;\n",
       "    }\n",
       "\n",
       "    .dataframe thead th {\n",
       "        text-align: right;\n",
       "    }\n",
       "</style>\n",
       "<table border=\"1\" class=\"dataframe\">\n",
       "  <thead>\n",
       "    <tr style=\"text-align: right;\">\n",
       "      <th></th>\n",
       "      <th>Id</th>\n",
       "      <th>Predicted</th>\n",
       "    </tr>\n",
       "  </thead>\n",
       "  <tbody>\n",
       "    <tr>\n",
       "      <th>0</th>\n",
       "      <td>163840</td>\n",
       "      <td>7 1 15</td>\n",
       "    </tr>\n",
       "    <tr>\n",
       "      <th>1</th>\n",
       "      <td>122882</td>\n",
       "      <td>7 1 15</td>\n",
       "    </tr>\n",
       "    <tr>\n",
       "      <th>2</th>\n",
       "      <td>81926</td>\n",
       "      <td>7 1 15</td>\n",
       "    </tr>\n",
       "  </tbody>\n",
       "</table>\n",
       "</div>"
      ],
      "text/plain": [
       "       Id Predicted\n",
       "0  163840    7 1 15\n",
       "1  122882    7 1 15\n",
       "2   81926    7 1 15"
      ]
     },
     "execution_count": 17,
     "metadata": {},
     "output_type": "execute_result"
    }
   ],
   "source": [
    "submission = pd.DataFrame([test, test_preds], index = ['Id', 'Predicted']).T\n",
    "submission['Predicted'] = submission['Predicted'].map(list)\n",
    "submission['Predicted'] = submission['Predicted'].apply(lambda x: \" \".join(map(str, x)))\n",
    "submission.head(3)"
   ]
  },
  {
   "cell_type": "code",
   "execution_count": 18,
   "id": "guilty-clause",
   "metadata": {
    "execution": {
     "iopub.execute_input": "2021-05-11T20:54:54.302818Z",
     "iopub.status.busy": "2021-05-11T20:54:54.302135Z",
     "iopub.status.idle": "2021-05-11T20:54:54.317207Z",
     "shell.execute_reply": "2021-05-11T20:54:54.316479Z"
    },
    "papermill": {
     "duration": 0.045014,
     "end_time": "2021-05-11T20:54:54.317365",
     "exception": false,
     "start_time": "2021-05-11T20:54:54.272351",
     "status": "completed"
    },
    "tags": []
   },
   "outputs": [],
   "source": [
    "submission.to_csv('sample_submission.csv', index=None)"
   ]
  }
 ],
 "metadata": {
  "kernelspec": {
   "display_name": "Python 3",
   "language": "python",
   "name": "python3"
  },
  "language_info": {
   "codemirror_mode": {
    "name": "ipython",
    "version": 3
   },
   "file_extension": ".py",
   "mimetype": "text/x-python",
   "name": "python",
   "nbconvert_exporter": "python",
   "pygments_lexer": "ipython3",
   "version": "3.7.9"
  },
  "papermill": {
   "default_parameters": {},
   "duration": 18.081673,
   "end_time": "2021-05-11T20:54:55.054232",
   "environment_variables": {},
   "exception": null,
   "input_path": "__notebook__.ipynb",
   "output_path": "__notebook__.ipynb",
   "parameters": {},
   "start_time": "2021-05-11T20:54:36.972559",
   "version": "2.3.2"
  }
 },
 "nbformat": 4,
 "nbformat_minor": 5
}
