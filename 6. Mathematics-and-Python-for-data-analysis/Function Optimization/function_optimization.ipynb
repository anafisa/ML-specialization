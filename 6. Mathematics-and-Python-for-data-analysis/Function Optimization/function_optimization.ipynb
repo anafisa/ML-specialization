{
 "cells": [
  {
   "cell_type": "code",
   "execution_count": 4,
   "metadata": {},
   "outputs": [],
   "source": [
    "import numpy as np\n",
    "import ipywidgets as widgets\n",
    "import matplotlib.pyplot as plt\n",
    "from ipywidgets import interact, interact_manual"
   ]
  },
  {
   "cell_type": "markdown",
   "metadata": {},
   "source": [
    "## Задание 1"
   ]
  },
  {
   "cell_type": "markdown",
   "metadata": {},
   "source": [
    "Реализовать функцию, осуществляющую поиск экстремума функции одной переменной методом дихотомии. Представить наглядную визуализацию данного метода, где варьируемым параметром выступает номер итерации."
   ]
  },
  {
   "cell_type": "code",
   "execution_count": 5,
   "metadata": {},
   "outputs": [],
   "source": [
    "def dich_search(f, a, b, e, ex_type, i = 0): #ex_type = {1 (to find max), -1 (to find min)}\n",
    "    points = [(0,) for _ in range(10**2)]\n",
    "    \n",
    "    while abs(b - a) >  e:\n",
    "        x = (a + b)/2\n",
    "        x1 = (x - e)\n",
    "        x2 = (x + e)\n",
    "        if ex_type * f(x2) < ex_type * f(x1):\n",
    "            b = x\n",
    "        else:\n",
    "            a = x\n",
    "        points[i] = [(a+b)/2, f((a+b)/2)]\n",
    "        i += 1\n",
    "        \n",
    "    return ((a + b)/2, f((a + b)/2)), points[:i]\n",
    "        "
   ]
  },
  {
   "cell_type": "code",
   "execution_count": 6,
   "metadata": {},
   "outputs": [
    {
     "data": {
      "text/plain": [
       "((0.0390625, -0.99847412109375),\n",
       " [[5.0, 24.0],\n",
       "  [2.5, 5.25],\n",
       "  [1.25, 0.5625],\n",
       "  [0.625, -0.609375],\n",
       "  [0.3125, -0.90234375],\n",
       "  [0.15625, -0.9755859375],\n",
       "  [0.078125, -0.993896484375],\n",
       "  [0.0390625, -0.99847412109375]])"
      ]
     },
     "execution_count": 6,
     "metadata": {},
     "output_type": "execute_result"
    }
   ],
   "source": [
    "# find min\n",
    "def f(x):\n",
    "    return x**2 - 1\n",
    "dich_search(f, -10, 10, 0.1, -1)"
   ]
  },
  {
   "cell_type": "code",
   "execution_count": 7,
   "metadata": {},
   "outputs": [
    {
     "data": {
      "text/plain": [
       "((0.009765625, 0.999999990905053),\n",
       " [[2.5, -38.0625],\n",
       "  [-1.25, -1.44140625],\n",
       "  [0.625, 0.847412109375],\n",
       "  [-0.3125, 0.9904632568359375],\n",
       "  [0.15625, 0.9994039535522461],\n",
       "  [-0.078125, 0.9999627470970154],\n",
       "  [0.0390625, 0.9999976716935635],\n",
       "  [-0.01953125, 0.9999998544808477],\n",
       "  [0.009765625, 0.999999990905053]])"
      ]
     },
     "execution_count": 7,
     "metadata": {},
     "output_type": "execute_result"
    }
   ],
   "source": [
    "# find_max\n",
    "def g(x):\n",
    "    return -x**4 + 1\n",
    "lst = dich_search(g, -20, 10, 0.1, 1)\n",
    "dich_search(g, -20, 10, 0.1, 1)"
   ]
  },
  {
   "cell_type": "markdown",
   "metadata": {},
   "source": [
    "## Визуализация 1"
   ]
  },
  {
   "cell_type": "code",
   "execution_count": 8,
   "metadata": {},
   "outputs": [
    {
     "data": {
      "application/vnd.jupyter.widget-view+json": {
       "model_id": "7144b35e9b924b1786b0894eed173fde",
       "version_major": 2,
       "version_minor": 0
      },
      "text/plain": [
       "interactive(children=(IntSlider(value=5, description='i', max=10), Dropdown(description='color', options=('blu…"
      ]
     },
     "metadata": {},
     "output_type": "display_data"
    },
    {
     "data": {
      "text/plain": [
       "<function __main__.draw_f(i, **kwargs)>"
      ]
     },
     "execution_count": 8,
     "metadata": {},
     "output_type": "execute_result"
    }
   ],
   "source": [
    "def f(x):\n",
    "    return 100*x**2 + 5*x +10\n",
    "\n",
    "def my_plt(x, y, points, i, color , style , width): \n",
    "    fig = plt.figure()\n",
    "    axes = fig.add_subplot(111)\n",
    "    axes.plot(x, y, color=color, linestyle=style, linewidth=width)\n",
    "    axes.grid()\n",
    "    \n",
    "    for j in range(0, i): \n",
    "        plt.scatter(points[j][0], points[j][1], s=100, color=\"red\")\n",
    "    plt.show()\n",
    "    \n",
    "def draw_f(i, **kwargs):\n",
    "    x = np.linspace(-75, 75, 20)\n",
    "    y = 100 * (x**2) + 5 * x + 10 \n",
    "    points = dich_search(f, -130, 130, 0.01, -1)[1]\n",
    "    my_plt(x, y, points, i, **kwargs)\n",
    "    \n",
    "interact(draw_f, \n",
    "        i= (0,10),\n",
    "        color = [\"blue\", \"green\"],\n",
    "        style=[\"solid\", \"dashed\"],\n",
    "        width=(1,5))\n"
   ]
  },
  {
   "cell_type": "markdown",
   "metadata": {},
   "source": [
    "## Задание 2"
   ]
  },
  {
   "cell_type": "markdown",
   "metadata": {},
   "source": [
    "Реализовать функцию, осуществляющую поиск экстремума функции одной переменной методом золотого сечения. Представить визуализацию данного метода."
   ]
  },
  {
   "cell_type": "code",
   "execution_count": 9,
   "metadata": {},
   "outputs": [],
   "source": [
    "def golden_search(f, a, b, e, i=0):\n",
    "    points = [(0,) for _ in range(10**2)]\n",
    "    k = (1 + 5**(0.5))/2\n",
    "    \n",
    "    while abs((b - a)/2) >= e:\n",
    "        x1 = b - ((b - a)/k)\n",
    "        x2 = a + ((b - a)/k)\n",
    "        if f(x1) > f(x2):\n",
    "            a = x1\n",
    "        else:\n",
    "            b = x2\n",
    "        points[i] = [(a+b)/2, f((a+b)/2)]\n",
    "        i += 1\n",
    "    return (((a+b)/2, f((a+b)/2)), points[:i])\n",
    "    "
   ]
  },
  {
   "cell_type": "code",
   "execution_count": 10,
   "metadata": {},
   "outputs": [
    {
     "data": {
      "text/plain": [
       "((2.5424859373685598, -7.248194945125916),\n",
       " [[3.819660112501052, -5.50849718747371],\n",
       "  [1.4589803375031547, -6.166278062294954],\n",
       "  [2.917960675006309, -7.075308874148272],\n",
       "  [2.0162612375115665, -7.0159968096661585],\n",
       "  [2.5735421375199783, -7.244591554008993],\n",
       "  [2.229123600033648, -7.17662597594127],\n",
       "  [2.44198596255573, -7.246634371459415],\n",
       "  [2.5735421375199783, -7.244591554008993],\n",
       "  [2.4922359499621454, -7.24993971952701],\n",
       "  [2.5424859373685598, -7.248194945125916]])"
      ]
     },
     "execution_count": 10,
     "metadata": {},
     "output_type": "execute_result"
    }
   ],
   "source": [
    "def g(x):\n",
    "    return x**2 - 5*x - 1\n",
    "golden_search(g, -10, 10, 0.1)"
   ]
  },
  {
   "cell_type": "markdown",
   "metadata": {},
   "source": [
    "## Визуализация 2"
   ]
  },
  {
   "cell_type": "code",
   "execution_count": 11,
   "metadata": {},
   "outputs": [
    {
     "data": {
      "application/vnd.jupyter.widget-view+json": {
       "model_id": "a4495242f3a44fdc98a15ecb2dfc4aa6",
       "version_major": 2,
       "version_minor": 0
      },
      "text/plain": [
       "interactive(children=(IntSlider(value=5, description='i', max=10), Dropdown(description='color', options=('blu…"
      ]
     },
     "metadata": {},
     "output_type": "display_data"
    },
    {
     "data": {
      "text/plain": [
       "<function __main__.draw_f(i, **kwargs)>"
      ]
     },
     "execution_count": 11,
     "metadata": {},
     "output_type": "execute_result"
    }
   ],
   "source": [
    "def f(x):\n",
    "    return 100*x**2 + 5*x +10\n",
    "\n",
    "def my_plt(x, y, points, i, color , style , width): \n",
    "    fig = plt.figure()\n",
    "    axes = fig.add_subplot(111)\n",
    "    axes.plot(x, y, color=color, linestyle=style, linewidth=width)\n",
    "    axes.grid()\n",
    "    \n",
    "    for j in range(0, i): \n",
    "        plt.scatter(points[j][0], points[j][1], s=100, color=\"red\")\n",
    "    plt.show()\n",
    "    \n",
    "def draw_f(i, **kwargs):\n",
    "    x = np.linspace(-75, 75, 20)\n",
    "    y = 100 * (x**2) + 5 * x + 10 \n",
    "    points = golden_search(f, -130, 130, 0.01)[1]\n",
    "    my_plt(x, y, points, i, **kwargs)\n",
    "    \n",
    "interact(draw_f, \n",
    "        i= (0,10),\n",
    "        color = [\"blue\", \"green\"],\n",
    "        style=[\"solid\", \"dashed\"],\n",
    "        width=(1,5))"
   ]
  },
  {
   "cell_type": "markdown",
   "metadata": {},
   "source": [
    "## Задание 3"
   ]
  },
  {
   "cell_type": "markdown",
   "metadata": {},
   "source": [
    "Реализовать функцию, осуществляющую поиск экстремума функции одной переменной методом чисел Фибоначчи. Представить визуализацию данного метода."
   ]
  },
  {
   "cell_type": "code",
   "execution_count": 12,
   "metadata": {},
   "outputs": [],
   "source": [
    "fib = lambda n: fib(n - 1) + fib(n - 2) if n > 2 else 1\n",
    "\n",
    "def fib_search(f, a, b, e, n=10, i=0):\n",
    "    points = [(0,) for _ in range(10**2)]\n",
    "    x1, x2 = a + (b - a) * fib(n - 2)/fib(n), a + (b - a) * fib(n - 1)/fib(n)\n",
    "    while n!= 0:\n",
    "        if f(x1) > f(x2):\n",
    "            a = x1\n",
    "            x1 = x2\n",
    "            x2 = b - (x1 - a)\n",
    "        else:\n",
    "            b = x2\n",
    "            x2 = x1\n",
    "            x1 = a + (b - x2)\n",
    "        n -= 1\n",
    "        points[i] = [(x1+x2)/2, f((x1+x2)/2)]\n",
    "        i += 1\n",
    "    return (((x1 + x2)/2, f((x1 + x2)/2)), points[:i])"
   ]
  },
  {
   "cell_type": "code",
   "execution_count": 13,
   "metadata": {},
   "outputs": [
    {
     "data": {
      "text/plain": [
       "((2.727272727272707, -7.198347107438026),\n",
       " [[3.8181818181818183, -5.5123966942148765],\n",
       "  [1.454545454545455, -6.15702479338843],\n",
       "  [2.90909090909091, -7.082644628099173],\n",
       "  [2.0000000000000018, -7.000000000000002],\n",
       "  [2.5454545454545485, -7.24793388429752],\n",
       "  [2.181818181818187, -7.148760330578516],\n",
       "  [2.363636363636372, -7.231404958677688],\n",
       "  [2.5454545454545485, -7.24793388429752],\n",
       "  [2.5454545454545396, -7.247933884297521],\n",
       "  [2.727272727272707, -7.198347107438026]])"
      ]
     },
     "execution_count": 13,
     "metadata": {},
     "output_type": "execute_result"
    }
   ],
   "source": [
    "def g(x):\n",
    "    return x**2 - 5*x - 1\n",
    "fib_search(g, -10, 10, 0.1)"
   ]
  },
  {
   "cell_type": "markdown",
   "metadata": {},
   "source": [
    "## Визуализация 3"
   ]
  },
  {
   "cell_type": "code",
   "execution_count": 14,
   "metadata": {},
   "outputs": [
    {
     "data": {
      "application/vnd.jupyter.widget-view+json": {
       "model_id": "b70d48a130fe48919f8e22a75d40d785",
       "version_major": 2,
       "version_minor": 0
      },
      "text/plain": [
       "interactive(children=(IntSlider(value=5, description='i', max=10), Dropdown(description='color', options=('blu…"
      ]
     },
     "metadata": {},
     "output_type": "display_data"
    },
    {
     "data": {
      "text/plain": [
       "<function __main__.draw_f(i, **kwargs)>"
      ]
     },
     "execution_count": 14,
     "metadata": {},
     "output_type": "execute_result"
    }
   ],
   "source": [
    "def f(x):\n",
    "    return 100*x**2 + 5*x +10\n",
    "\n",
    "def my_plt(x, y, points, i, color , style , width): \n",
    "    fig = plt.figure()\n",
    "    axes = fig.add_subplot(111)\n",
    "    axes.plot(x, y, color=color, linestyle=style, linewidth=width)\n",
    "    axes.grid()\n",
    "    \n",
    "    for j in range(0, i): \n",
    "        plt.scatter(points[j][0], points[j][1], s=100, color=\"red\")\n",
    "    plt.show()\n",
    "    \n",
    "def draw_f(i, **kwargs):\n",
    "    x = np.linspace(-75, 75, 20)\n",
    "    y = 100 * (x**2) + 5 * x + 10 \n",
    "    points = fib_search(f, -130, 130, 0.01)[1]\n",
    "    my_plt(x, y, points, i, **kwargs)\n",
    "    \n",
    "interact(draw_f, \n",
    "        i= (0,10),\n",
    "        color = [\"blue\", \"green\"],\n",
    "        style=[\"solid\", \"dashed\"],\n",
    "        width=(1,5))\n"
   ]
  },
  {
   "cell_type": "code",
   "execution_count": null,
   "metadata": {},
   "outputs": [],
   "source": []
  }
 ],
 "metadata": {
  "kernelspec": {
   "display_name": "Python 3",
   "language": "python",
   "name": "python3"
  },
  "language_info": {
   "codemirror_mode": {
    "name": "ipython",
    "version": 3
   },
   "file_extension": ".py",
   "mimetype": "text/x-python",
   "name": "python",
   "nbconvert_exporter": "python",
   "pygments_lexer": "ipython3",
   "version": "3.7.4"
  }
 },
 "nbformat": 4,
 "nbformat_minor": 2
}
