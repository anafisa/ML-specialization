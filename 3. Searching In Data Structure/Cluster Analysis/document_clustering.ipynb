{
 "cells": [
  {
   "cell_type": "markdown",
   "metadata": {},
   "source": [
    "## Кластеризация текстов"
   ]
  },
  {
   "cell_type": "markdown",
   "metadata": {},
   "source": [
    "* рассмотрим выборку из писем на разные темы"
   ]
  },
  {
   "cell_type": "code",
   "execution_count": 1,
   "metadata": {},
   "outputs": [],
   "source": [
    "from sklearn.datasets import fetch_20newsgroups\n",
    "from sklearn.feature_extraction.text import CountVectorizer, TfidfVectorizer"
   ]
  },
  {
   "cell_type": "code",
   "execution_count": 2,
   "metadata": {},
   "outputs": [
    {
     "data": {
      "text/plain": [
       "['alt.atheism',\n",
       " 'comp.graphics',\n",
       " 'comp.os.ms-windows.misc',\n",
       " 'comp.sys.ibm.pc.hardware',\n",
       " 'comp.sys.mac.hardware',\n",
       " 'comp.windows.x',\n",
       " 'misc.forsale',\n",
       " 'rec.autos',\n",
       " 'rec.motorcycles',\n",
       " 'rec.sport.baseball',\n",
       " 'rec.sport.hockey',\n",
       " 'sci.crypt',\n",
       " 'sci.electronics',\n",
       " 'sci.med',\n",
       " 'sci.space',\n",
       " 'soc.religion.christian',\n",
       " 'talk.politics.guns',\n",
       " 'talk.politics.mideast',\n",
       " 'talk.politics.misc',\n",
       " 'talk.religion.misc']"
      ]
     },
     "execution_count": 2,
     "metadata": {},
     "output_type": "execute_result"
    }
   ],
   "source": [
    "train_all = fetch_20newsgroups(subset='train')\n",
    "train_all.target_names"
   ]
  },
  {
   "cell_type": "code",
   "execution_count": 3,
   "metadata": {},
   "outputs": [],
   "source": [
    "dataset = fetch_20newsgroups(\n",
    "    subset='train',\n",
    "    categories=['comp.sys.mac.hardware', 'soc.religion.christian','rec.sport.baseball'])"
   ]
  },
  {
   "cell_type": "code",
   "execution_count": 4,
   "metadata": {},
   "outputs": [
    {
     "name": "stdout",
     "output_type": "stream",
     "text": [
      "From: mjones@fenway.aix.kingston.ibm.com (Mike Jones)\n",
      "Subject: Re: My Belated Predictions (NL)\n",
      "Reply-To: mjones@donald.aix.kingston.ibm.com\n",
      "Organization: IBM AIX/ESA Development, Kingston NY\n",
      "Lines: 34\n",
      "\n",
      "mss@netcom.com (Mark Singer) writes:\n",
      ">In article <Apr.4.19.42.08.1993.12176@pilot.njin.net> gajarsky@pilot.njin.net (Bob Gajarsky - Hobokenite) writes:\n",
      ">>javier lopez is a better catcher than greg olson.\n",
      ">But has there ever in the history of baseball been a 22-year-old (or\n",
      ">younger) *rookie* catcher who compared favorably among all league\n",
      ">catchers in terms of defense and brought a .247 bat?  Wasn't it \n",
      ">Sandy Alomar who was supposed to be that good in his rookie year?\n",
      ">Not.  Wasn't it Benito Santiago who was supposed to be that good\n",
      ">in his rookie year?  Not.\n",
      "\n",
      "Hrm. Sandy Alomar, 24 year old rookie: 132 games, .290/.326/.418. Threw\n",
      "out a few baserunners. Benito Santiago, 22 year old rookie: 146 games,\n",
      ".300/.324/.467. He threw out a few baserunners, too. Ivan Rodriguez,\n",
      "*20* year old rookies: 88 games, .264/.276/.354. Didn't exactly suck\n",
      "behind the plate.\n",
      "\n",
      ">I can continue this thread with the others mentioned, but you get\n",
      ">the point.  You and others seem to be so quick to dismiss the \n",
      ">seasoned veterans in favor of the hot *young* rookies.  Perhaps -\n",
      ">just perhaps - the management team of the pennant-winning Braves\n",
      ">knows something more than you do.  And perhaps what they know is\n",
      ">that very, very few 21- and 22-year old rookies come up to the majors\n",
      ">and make an impact. \n",
      "\n",
      "True. Which only makes it more important to realize when you have one of the\n",
      "few. Lopez' season last year, adjusted to major league equivalencies, was\n",
      ".306/.330/.472, 15 HRs. How bad does he have to be behind the plate for that\n",
      "to not be better than Olson's .238/.316/.328?\n",
      "\n",
      " Mike Jones | AIX High-End Development | mjones@donald.aix.kingston.ibm.com\n",
      "\n",
      "I would not admire hitting against [Ryne] Duren, because if he ever hit you\n",
      "in the head you might be in the past tense.\n",
      "\t- Casey Stengel\n",
      "\n"
     ]
    }
   ],
   "source": [
    "print(dataset.data[0])"
   ]
  },
  {
   "cell_type": "code",
   "execution_count": 5,
   "metadata": {},
   "outputs": [
    {
     "name": "stdout",
     "output_type": "stream",
     "text": [
      "From: peirce@outpost.SF-Bay.org (Michael Peirce)\n",
      "Subject: Re: Sales of PowerBook slowing down...\n",
      "Reply-To: peirce@outpost.SF-Bay.org (Michael Peirce)\n",
      "Organization: Peirce Software\n",
      "Lines: 27\n",
      "X-Mailer: uAccess - Macintosh Release: 1.6v2\n",
      "\n",
      "\n",
      "In article <martin.733762199@tohi> (comp.sys.mac.hardware), martin@tohi (Jean-francois Martin) writes:\n",
      "> First, this is not an April 1 joke.\n",
      "> \n",
      "> A dealer in my town told me that the PowerBook don't sell as they use to sell.\n",
      "> The guy told me that Apple is having the same problem it has when the desktop\n",
      "> Mac was too expensive ;  the PowerBook are too expensive in comparison to what\n",
      "> you can get on the DOS side. What do you think of this? Do you feel the same\n",
      "> thing about it? Just curious.\n",
      "\n",
      "Sounds about right.\n",
      "\n",
      "If there is high demand for a product there is little incentive to\n",
      "aggresively cut prices.  Once the demand fall off a bit, then is the\n",
      "time to start getting aggressive with pricing.  Waiting too long can\n",
      "really hurt your business though :-)\n",
      "\n",
      "The PowerBooks have sold very well up to now, if they are slowing\n",
      "down Apple needs to come out with some lower priced versions (the\n",
      "only reason I own a PowerBook is that I could spring for a $900 PB100,\n",
      "the rest of the lineup is way to pricey for me).  I'd bet they'll\n",
      "be coming out with more power versions too.\n",
      "\n",
      "--  Michael Peirce      --   peirce@outpost.sf-bay.org\n",
      "--  Peirce Software     --   Suite 301, 719 Hibiscus Place\n",
      "--                      --   San Jose, California USA 95117\n",
      "--  Makers of:          --   voice: (408) 244-6554 fax: (408) 244-6882\n",
      "--             Smoothie --   AppleLink: peirce & America Online: AFC Peirce\n",
      "\n"
     ]
    }
   ],
   "source": [
    "print(dataset.data[-1])"
   ]
  },
  {
   "cell_type": "code",
   "execution_count": 6,
   "metadata": {},
   "outputs": [
    {
     "data": {
      "text/plain": [
       "array([1, 2, 2, ..., 0, 0, 0])"
      ]
     },
     "execution_count": 6,
     "metadata": {},
     "output_type": "execute_result"
    }
   ],
   "source": [
    "dataset.target"
   ]
  },
  {
   "cell_type": "markdown",
   "metadata": {},
   "source": [
    "* подготовка признаков"
   ]
  },
  {
   "cell_type": "code",
   "execution_count": 7,
   "metadata": {},
   "outputs": [],
   "source": [
    "vectorizer = TfidfVectorizer(max_df=500, min_df=10)\n",
    "matrix = vectorizer.fit_transform(dataset.data)"
   ]
  },
  {
   "cell_type": "code",
   "execution_count": 8,
   "metadata": {},
   "outputs": [
    {
     "data": {
      "text/plain": [
       "(1774, 3569)"
      ]
     },
     "execution_count": 8,
     "metadata": {},
     "output_type": "execute_result"
    }
   ],
   "source": [
    "matrix.shape"
   ]
  },
  {
   "cell_type": "markdown",
   "metadata": {},
   "source": [
    "### Аггломеративная кластеризация (neighbour joining)"
   ]
  },
  {
   "cell_type": "code",
   "execution_count": 9,
   "metadata": {},
   "outputs": [
    {
     "name": "stderr",
     "output_type": "stream",
     "text": [
      "/Library/Frameworks/Python.framework/Versions/3.7/lib/python3.7/site-packages/sklearn/utils/deprecation.py:144: FutureWarning: The sklearn.cluster.hierarchical module is  deprecated in version 0.22 and will be removed in version 0.24. The corresponding classes / functions should instead be imported from sklearn.cluster. Anything that cannot be imported from sklearn.cluster is now part of the private API.\n",
      "  warnings.warn(message, FutureWarning)\n"
     ]
    }
   ],
   "source": [
    "from sklearn.cluster.hierarchical import AgglomerativeClustering"
   ]
  },
  {
   "cell_type": "code",
   "execution_count": 10,
   "metadata": {},
   "outputs": [],
   "source": [
    "model = AgglomerativeClustering(n_clusters=3, affinity='cosine', linkage='complete')\n",
    "preds = model.fit_predict(matrix.toarray())"
   ]
  },
  {
   "cell_type": "code",
   "execution_count": 11,
   "metadata": {},
   "outputs": [
    {
     "data": {
      "text/plain": [
       "array([0, 0, 0, ..., 0, 2, 1])"
      ]
     },
     "execution_count": 11,
     "metadata": {},
     "output_type": "execute_result"
    }
   ],
   "source": [
    "preds"
   ]
  },
  {
   "cell_type": "code",
   "execution_count": 12,
   "metadata": {},
   "outputs": [
    {
     "data": {
      "text/plain": [
       "array([1, 2, 2, ..., 0, 0, 0])"
      ]
     },
     "execution_count": 12,
     "metadata": {},
     "output_type": "execute_result"
    }
   ],
   "source": [
    "dataset.target # много ошибок"
   ]
  },
  {
   "cell_type": "code",
   "execution_count": 13,
   "metadata": {},
   "outputs": [
    {
     "name": "stdout",
     "output_type": "stream",
     "text": [
      "  (0, 2360)\t0.05430289804136307\n",
      "  (0, 2069)\t0.03812443016250046\n",
      "  (0, 1514)\t0.057404039123589115\n",
      "  (0, 1557)\t0.046406100168203124\n",
      "  (0, 471)\t0.031859800069003165\n",
      "  (0, 263)\t0.04796449214625369\n",
      "  (0, 1562)\t0.05818133919599171\n",
      "  (0, 1131)\t0.04559534510013841\n",
      "  (0, 1547)\t0.0507381047912865\n",
      "  (0, 91)\t0.0753319649213764\n",
      "  (0, 1057)\t0.02852852451175298\n",
      "  (0, 434)\t0.04549758317915577\n",
      "  (0, 1593)\t0.028860813395949484\n",
      "  (0, 1599)\t0.07171800392381238\n",
      "  (0, 32)\t0.04090059120868748\n",
      "  (0, 1980)\t0.05197984011425602\n",
      "  (0, 1848)\t0.03536461751775923\n",
      "  (0, 2848)\t0.045893280252865154\n",
      "  (0, 2628)\t0.057404039123589115\n",
      "  (0, 1643)\t0.04844771877712517\n",
      "  (0, 1983)\t0.04579318136909156\n",
      "  (0, 3481)\t0.02912253835101894\n",
      "  (0, 3290)\t0.04056735301022782\n",
      "  (0, 1639)\t0.06955916197491616\n",
      "  (0, 1982)\t0.03514913464535264\n",
      "  :\t:\n",
      "  (0, 539)\t0.052823267095266455\n",
      "  (0, 1380)\t0.14865288187437398\n",
      "  (0, 2184)\t0.09689543755425034\n",
      "  (0, 2208)\t0.1506639298427528\n",
      "  (0, 2412)\t0.14679094227772427\n",
      "  (0, 50)\t0.03396736288944028\n",
      "  (0, 13)\t0.058727614106991795\n",
      "  (0, 112)\t0.058451507532210144\n",
      "  (0, 43)\t0.04327228717303137\n",
      "  (0, 355)\t0.035988408098982995\n",
      "  (0, 2950)\t0.06340928903479742\n",
      "  (0, 1998)\t0.04530431254479643\n",
      "  (0, 2185)\t0.05165771109408611\n",
      "  (0, 2144)\t0.06561888799596233\n",
      "  (0, 94)\t0.052823267095266455\n",
      "  (0, 2241)\t0.05511365310942779\n",
      "  (0, 1008)\t0.12937583639527495\n",
      "  (0, 1061)\t0.13782959598862615\n",
      "  (0, 2695)\t0.034564734231806706\n",
      "  (0, 2209)\t0.05410812912523839\n",
      "  (0, 2493)\t0.06382120605065243\n",
      "  (0, 1763)\t0.1450575179837542\n",
      "  (0, 2070)\t0.09739297236472891\n",
      "  (0, 1613)\t0.23063132988585033\n",
      "  (0, 1276)\t0.07642503172288023\n"
     ]
    }
   ],
   "source": [
    "print(matrix[0])"
   ]
  },
  {
   "cell_type": "code",
   "execution_count": 14,
   "metadata": {},
   "outputs": [
    {
     "name": "stdout",
     "output_type": "stream",
     "text": [
      "['00', '000', '0062', '01', '02', '03', '030', '0358', '04', '040', '05', '06', '07', '08', '09', '10', '100', '1000', '105', '106', '11', '110', '12', '120', '128', '13', '132', '134', '14', '140', '14691229', '14853', '15', '150', '15apr93', '16', '160', '162', '17', '170', '175', '18', '180', '19', '1987', '1988', '1989', '1990', '1991', '1992', '1993', '1993apr13', '1993apr14', '1993apr15', '1993apr16', '1993apr17', '1993apr19', '1993apr5', '1993apr6', '1b', '1d17', '1d20', '1st', '20', '200', '2000', '21', '22', '23', '230', '24', '240', '241', '244', '25', '250', '256', '25mhz', '26', '27', '28', '286', '29', '2b', '2nd', '30', '300', '30602', '31', '310', '312', '316', '32', '33', '34', '35', '350', '354', '36', '37', '38', '386', '39', '3b', '3rd', '40', '400', '405', '408', '41', '411', '415', '42', '43', '44', '45', '455', '46', '47', '48', '480', '486', '49', '4mb', '4th', '50', '500', '51', '512', '512k', '52', '53', '54', '542', '55', '56', '57', '571', '58', '59', '5of5', '5th', '60', '600', '601', '61', '610', '617', '62', '63', '64', '65', '650', '66', '68', '68030', '68040', '680x0', '69', '6th', '70', '700', '706', '71', '72', '73', '74', '7415', '75', '750', '76', '77', '79', '7th', '80', '800', '80ns', '81', '85', '86', '87', '88', '89', '90', '900', '91', '92', '93', '94', '94305', '95', '950', '96', '97', '9760', '98', '99', '__', '___', 'aa', 'aa888', 'aaa', 'aaron', 'ab', 'ability', 'able', 'above', 'abraham', 'absence', 'absolute', 'absolutely', 'absolutes', 'abstract', 'ac', 'acad', 'academic', 'acc', 'accelerator', 'accept', 'accepted', 'accepting', 'access', 'according', 'account', 'accounts', 'accurate', 'achieve', 'acker', 'acknowledge', 'acns', 'across', 'acs', 'act', 'action', 'actions', 'active', 'acts', 'actual', 'actually', 'ad', 'adam', 'adams', 'adapter', 'adb', 'add', 'added', 'adding', 'addition', 'additional', 'address', 'admissions', 'admit', 'adobe', 'advance', 'advanced', 'advantage', 'advice', 'affected', 'afford', 'afraid', 'africa', 'after', 'again', 'against', 'age', 'ages', 'agnostic', 'ago', 'agree', 'agreement', 'ah', 'ahead', 'ai', 'air', 'aisun3', 'al', 'alan', 'alexander', 'alive', 'alleg', 'allegheny', 'allen', 'allow', 'allowed', 'allows', 'almost', 'alomar', 'alone', 'along', 'alot', 'alpha', 'already', 'also', 'alt', 'alternative', 'although', 'alvin', 'always', 'am', 'amateur', 'amazing', 'ambiguous', 'america', 'american', 'among', 'amount', 'analysis', 'ancient', 'anderson', 'andre', 'andrew', 'andy', 'angeles', 'angels', 'anger', 'angry', 'animals', 'ann', 'announced', 'annoying', 'another', 'answer', 'answered', 'answering', 'answers', 'anthony', 'anti', 'anybody', 'anymore', 'anyone', 'anything', 'anyway', 'anywhere', 'apart', 'apologize', 'apostle', 'apostles', 'apparent', 'apparently', 'appear', 'appearances', 'appeared', 'appears', 'apple', 'applelink', 'appletalk', 'application', 'applications', 'applied', 'applies', 'apply', 'appreciate', 'appreciated', 'approach', 'appropriate', 'apr', 'april', 'aquinas', 'arbor', 'area', 'areas', 'aren', 'argue', 'argued', 'arguing', 'argument', 'arguments', 'arizona', 'arm', 'around', 'arrogance', 'arrogant', 'art', 'articles', 'artificial', 'arts', 'ashley', 'aside', 'ask', 'asked', 'asking', 'asks', 'aspect', 'aspects', 'assertion', 'associate', 'associated', 'association', 'assume', 'assumed', 'assuming', 'assumption', 'assumptions', 'astray', 'astro', 'astros', 'atheism', 'atheist', 'atheists', 'athena', 'athens', 'athos', 'atlanta', 'att', 'attack', 'attempt', 'attempts', 'attention', 'atterlep', 'attitude', 'au', 'audience', 'august', 'austin', 'australia', 'author', 'authorities', 'authority', 'authors', 'auto', 'available', 'ave', 'average', 'averages', 'avoid', 'aware', 'away', 'awful', 'ba', 'babylon', 'bach', 'back', 'background', 'backup', 'bad', 'badly', 'baerga', 'bag', 'baker', 'ball', 'balls', 'baltimore', 'band', 'baptism', 'barry', 'base', 'baseball', 'based', 'baseman', 'bases', 'basic', 'basically', 'basis', 'bat', 'bats', 'batter', 'batters', 'battery', 'batting', 'battle', 'bay', 'bb', 'bbs', 'bc', 'bchm', 'bear', 'beastmaster', 'beat', 'beating', 'beautiful', 'became', 'because', 'become', 'becomes', 'becoming', 'been', 'before', 'began', 'begin', 'beginning', 'begins', 'behalf', 'behavior', 'behaviour', 'behind', 'being', 'beings', 'belief', 'beliefs', 'believe', 'believed', 'believers', 'believes', 'believing', 'bell', 'belong', 'below', 'ben', 'bench', 'benefit', 'berkeley', 'bernoulli', 'berryhill', 'besides', 'best', 'bet', 'better', 'between', 'beware', 'beyond', 'bgsu', 'bgu', 'biased', 'bible', 'biblical', 'big', 'bigger', 'biggest', 'bigs', 'bill', 'biochem', 'birth', 'bishop', 'bit', 'bitnet', 'black', 'blame', 'bless', 'blessed', 'blind', 'blindly', 'block', 'blood', 'blow', 'blown', 'blue', 'bnr', 'board', 'boards', 'bob', 'bobby', 'body', 'boggs', 'bonds', 'book', 'books', 'bookstore', 'boot', 'born', 'bosox', 'boss', 'boston', 'both', 'bother', 'bothers', 'bottom', 'bought', 'boulder', 'bound', 'boundary', 'box', 'boxes', 'boy', 'bradley', 'brain', 'brains', 'branch', 'brand', 'brave', 'braves', 'break', 'brett', 'brewers', 'brian', 'bring', 'brings', 'british', 'broken', 'brookline', 'brother', 'brothers', 'brought', 'brown', 'bruce', 'bsu', 'bsuvc', 'btw', 'buck', 'buddhism', 'buddhist', 'bug', 'build', 'building', 'built', 'bullpen', 'bunch', 'burning', 'bus', 'business', 'button', 'buy', 'buying', 'byler', 'bytes', 'c610', 'c650', 'ca', 'cabell', 'cable', 'cables', 'cache', 'cal', 'california', 'call', 'called', 'calling', 'calls', 'calvin', 'came', 'camelot', 'campus', 'canada', 'candidates', 'cannot', 'canon', 'canseco', 'capabilities', 'capability', 'capable', 'capital', 'caralv', 'card', 'cardinal', 'cardinals', 'cards', 'care', 'career', 'careful', 'carefully', 'cares', 'carleton', 'carnegie', 'carol', 'carpenter', 'carried', 'carry', 'carrying', 'carson', 'carter', 'cartridge', 'case', 'cases', 'cast', 'catch', 'catcher', 'catchers', 'category', 'catholic', 'catholics', 'caught', 'cause', 'caused', 'causes', 'cc', 'cd', 'cd300', 'cent', 'center', 'central', 'centris', 'centuries', 'century', 'ceremonial', 'ceremony', 'certain', 'certainly', 'certainty', 'cf', 'cgsvax', 'chain', 'challenge', 'champions', 'chance', 'change', 'changed', 'changes', 'changing', 'chapter', 'character', 'charge', 'charles', 'cheap', 'cheaper', 'check', 'checked', 'cheers', 'chen', 'chicago', 'chief', 'child', 'children', 'chip', 'chips', 'choice', 'choices', 'choose', 'choosing', 'chop', 'chose', 'chosen', 'chris', 'christ', 'christian', 'christianity', 'christians', 'christopher', 'chuck', 'church', 'churches', 'ci', 'cincinnati', 'circumstances', 'cis', 'cited', 'city', 'civil', 'claim', 'claimed', 'claiming', 'claims', 'claremont', 'clark', 'class', 'classic', 'clean', 'clear', 'clearly', 'clemens', 'cleveland', 'clh', 'clock', 'close', 'closed', 'closely', 'closer', 'closes', 'closest', 'club', 'clue', 'cmk', 'cmu', 'co', 'coach', 'coast', 'code', 'cohen', 'cold', 'collection', 'college', 'color', 'colorado', 'colors', 'columbia', 'combination', 'combined', 'come', 'comes', 'comics', 'coming', 'comm', 'command', 'commandments', 'commands', 'comment', 'commentary', 'comments', 'commitment', 'committed', 'committee', 'common', 'commonwealth', 'communication', 'communications', 'communion', 'community', 'comp', 'companies', 'company', 'comparable', 'comparative', 'compare', 'compared', 'comparing', 'comparison', 'compatible', 'complain', 'complaining', 'complete', 'completed', 'completely', 'complex', 'compuserve', 'computer', 'computers', 'computing', 'con', 'concept', 'conception', 'concern', 'concerned', 'concerning', 'conclude', 'concluded', 'conclusion', 'conclusions', 'condemned', 'conditions', 'conditt', 'configuration', 'conflict', 'confused', 'confusing', 'confusion', 'congregation', 'connect', 'connected', 'connection', 'connector', 'consensus', 'conservative', 'consider', 'consideration', 'considered', 'considering', 'consistent', 'consistently', 'constant', 'constantly', 'consultant', 'contact', 'contained', 'contains', 'contend', 'content', 'context', 'continue', 'continued', 'continues', 'contract', 'contradict', 'contradiction', 'contradictory', 'contrary', 'contribution', 'control', 'conversion', 'convert', 'converted', 'convictions', 'convince', 'coos', 'copies', 'coprocessor', 'copy', 'cor', 'corinthians', 'cornell', 'corp', 'corporate', 'corporation', 'correct', 'correctly', 'cost', 'could', 'couldn', 'council', 'count', 'counter', 'countries', 'country', 'couple', 'course', 'court', 'courtesy', 'cover', 'covered', 'covington', 'cox', 'cpu', 'craig', 'crashes', 'crazy', 'create', 'created', 'creation', 'creator', 'credit', 'critical', 'criticism', 'cross', 'crowd', 'crux', 'cs', 'csc2imd', 'csd', 'cso', 'cu', 'cub', 'cubs', 'cult', 'cultural', 'culture', 'cup', 'curious', 'current', 'currently', 'cut', 'cwis', 'cwru', 'cy', 'd88', 'daily', 'dal', 'dale', 'dalhousie', 'dame', 'damn', 'dan', 'danger', 'dangerous', 'daniel', 'darius', 'darius_lecointe', 'darrell', 'darren', 'dartmouth', 'data', 'date', 'dave', 'david', 'davis', 'dawson', 'day', 'days', 'db7n', 'de', 'dead', 'deal', 'dealer', 'dealing', 'deals', 'dealt', 'dean', 'dear', 'death', 'debate', 'decent', 'decide', 'decided', 'decides', 'decision', 'decisions', 'declared', 'deeds', 'deep', 'deeper', 'defense', 'defensive', 'defensively', 'define', 'defined', 'definitely', 'definition', 'defy', 'degree', 'delaware', 'deleted', 'deluxe', 'demand', 'demon', 'denominations', 'denver', 'deny', 'department', 'dependent', 'depending', 'depends', 'dept', 'depth', 'derby', 'derived', 'describe', 'described', 'description', 'desert', 'deserve', 'deserves', 'design', 'designed', 'desire', 'desktop', 'despite', 'detail', 'details', 'determine', 'detroit', 'develop', 'developed', 'development', 'device', 'devices', 'devil', 'did', 'didn', 'die', 'died', 'diego', 'differ', 'difference', 'differences', 'different', 'difficult', 'difficulty', 'direct', 'direction', 'directly', 'disagree', 'disappear', 'disciples', 'disclaimer', 'disclaimers', 'discovered', 'discuss', 'discussed', 'discussing', 'discussion', 'discussions', 'disk', 'disorganized', 'display', 'distinction', 'distinguish', 'distribution', 'divine', 'division', 'divorce', 'dl', 'dlecoint', 'dock', 'doctrinal', 'doctrine', 'doctrines', 'document', 'documentation', 'documents', 'dodger', 'dodgers', 'does', 'doesn', 'doing', 'dollars', 'donald', 'done', 'door', 'double', 'doubt', 'doug', 'douglas', 'down', 'dpi', 'dr', 'draft', 'drake', 'draw', 'drive', 'driver', 'drivers', 'drives', 'driving', 'drop', 'drug', 'drugs', 'dsg', 'du', 'due', 'duke', 'dumb', 'duo', 'during', 'duty', 'dwarner', 'dying', 'dynamic', 'each', 'earlier', 'early', 'earth', 'easier', 'easily', 'east', 'easter', 'eastern', 'easy', 'eat', 'ecn', 'ed', 'eddie', 'edge', 'editor', 'education', 'educational', 'edward', 'eeap', 'effect', 'effective', 'effectively', 'effects', 'effort', 'eight', 'either', 'electrical', 'electronic', 'else', 'elsewhere', 'email', 'embrace', 'emotional', 'emphasis', 'emphasize', 'employer', 'empty', 'end', 'ended', 'ends', 'enemies', 'eng', 'engaged', 'engineer', 'engineering', 'english', 'enjoy', 'enough', 'enter', 'entered', 'entire', 'entirely', 'environment', 'environmentalism', 'equal', 'equally', 'equivalent', 'era', 'ergo', 'eric', 'error', 'errors', 'escape', 'esp', 'especially', 'espn', 'essential', 'essentially', 'establish', 'established', 'et', 'etc', 'eternal', 'eternity', 'ethernet', 'ethnic', 'europe', 'evangelical', 'evans', 'eve', 'even', 'event', 'events', 'eventually', 'ever', 'every', 'everybody', 'everyone', 'everything', 'evidence', 'evil', 'ex', 'exact', 'exactly', 'examine', 'example', 'examples', 'excellent', 'except', 'exception', 'excuse', 'exist', 'existed', 'existence', 'existing', 'exists', 'expansion', 'expect', 'expected', 'expecting', 'expensive', 'experience', 'experienced', 'experiences', 'experts', 'expires', 'explain', 'explained', 'explaining', 'explains', 'explanation', 'explanations', 'explicitly', 'expos', 'express', 'expressed', 'expression', 'extended', 'extent', 'external', 'extra', 'extreme', 'extremely', 'eye', 'eyes', 'face', 'fact', 'factor', 'facts', 'fail', 'failed', 'fails', 'failure', 'fair', 'fairly', 'faith', 'faithful', 'fall', 'fallen', 'falling', 'falls', 'false', 'fame', 'familiar', 'family', 'famous', 'fan', 'fans', 'faq', 'far', 'fast', 'faster', 'father', 'fathers', 'fault', 'favor', 'favorite', 'fax', 'fear', 'fears', 'feature', 'features', 'feed', 'feel', 'feeling', 'feelings', 'feels', 'feet', 'fell', 'fellow', 'felt', 'female', 'fenway', 'few', 'fi', 'fidonet', 'field', 'fielder', 'fielding', 'fierkelab', 'fifth', 'figure', 'figured', 'file', 'files', 'fill', 'filled', 'final', 'finally', 'find', 'finding', 'fine', 'fingers', 'finish', 'finished', 'fire', 'firmly', 'first', 'firstclass', 'fischer', 'fisher', 'fit', 'five', 'fix', 'fixed', 'flame', 'flames', 'flat', 'flesh', 'floppy', 'florida', 'fluke', 'fly', 'fnal', 'folks', 'follow', 'followed', 'followers', 'following', 'follows', 'food', 'fool', 'foolish', 'fools', 'foot', 'football', 'force', 'forced', 'forever', 'forget', 'forgive', 'forgiven', 'forgiveness', 'forgot', 'form', 'format', 'formatted', 'former', 'forth', 'forward', 'foster', 'foul', 'found', 'foundation', 'founded', 'four', 'fourth', 'fpu', 'francisco', 'frank', 'fraser', 'fred', 'free', 'freedom', 'freenet', 'frequent', 'frequently', 'freshman', 'fri', 'friday', 'friend', 'friends', 'front', 'fsu', 'ftp', 'fulfillment', 'full', 'fully', 'fun', 'function', 'fundamental', 'funny', 'further', 'furthermore', 'future', 'gain', 'gajarsky', 'galarraga', 'game', 'games', 'garnet', 'gary', 'gatech', 'gathered', 'gave', 'gee', 'gene', 'general', 'generally', 'generation', 'genesis', 'genetic', 'geneva', 'genius', 'gentile', 'gentiles', 'george', 'georgia', 'gerald', 'german', 'germany', 'get', 'gets', 'getting', 'giants', 'gift', 'gifts', 'give', 'given', 'gives', 'giving', 'glad', 'glory', 'glove', 'gm', 'gmt', 'go', 'goal', 'god', 'gods', 'goes', 'going', 'gold', 'golden', 'gone', 'gonna', 'gonzalez', 'good', 'gospel', 'gospels', 'got', 'gotten', 'gov', 'government', 'grace', 'graduate', 'grand', 'grant', 'granted', 'graphics', 'grasp', 'grass', 'grave', 'gray', 'great', 'greater', 'greatest', 'greatly', 'greek', 'greeks', 'green', 'greenberg', 'greetings', 'greg', 'gregory', 'grew', 'ground', 'group', 'groups', 'grow', 'gspira', 'gsu0033', 'gt7122b', 'guess', 'guest', 'guide', 'guild', 'guilty', 'guy', 'guys', 'gvg', 'gvg47', 'ha', 'hacker', 'had', 'hades', 'hadn', 'hal', 'half', 'halifax', 'hall', 'hand', 'handed', 'handle', 'handled', 'hands', 'handy', 'hank', 'hanover', 'happen', 'happened', 'happening', 'happens', 'happiness', 'happy', 'hard', 'harder', 'hardly', 'hardware', 'harm', 'harris', 'harry', 'harvard', 'hasn', 'hate', 'haven', 'having', 'hayes', 'hcf', 'hd', 'head', 'heads', 'health', 'healthy', 'hear', 'heard', 'hearing', 'heart', 'hearts', 'heat', 'heaven', 'hebrew', 'hebrews', 'heck', 'held', 'hell', 'hello', 'help', 'helped', 'helpful', 'helping', 'helps', 'hemul', 'hence', 'her', 'here', 'heresy', 'hernandez', 'herself', 'hewlett', 'hey', 'hi', 'hide', 'high', 'higher', 'highest', 'highly', 'hill', 'him', 'himself', 'his', 'historical', 'history', 'hit', 'hite', 'hits', 'hitter', 'hitters', 'hitting', 'hmm', 'hmmm', 'hobokenite', 'hold', 'holding', 'holds', 'hole', 'holy', 'home', 'homer', 'homers', 'homeruns', 'homewood', 'homosexuality', 'honest', 'honestly', 'honor', 'hook', 'hope', 'hopefully', 'hoping', 'hopkins', 'horizontal', 'horrible', 'horse', 'hot', 'hour', 'hours', 'house', 'houston', 'how', 'howard', 'however', 'hp', 'hpcc01', 'hr', 'hrs', 'huge', 'hughes', 'huh', 'hulman', 'human', 'humanity', 'humans', 'humor', 'hung', 'hurt', 'husband', 'hydra', 'ian', 'ibm', 'id', 'idea', 'ideas', 'identical', 'idiot', 'idiots', 'ie', 'ignorant', 'ignore', 'ii', 'iici', 'iifx', 'iii', 'iisi', 'iivx', 'il', 'illinois', 'image', 'images', 'imagine', 'imho', 'immaculate', 'immature', 'immediately', 'imo', 'impact', 'implications', 'imply', 'importance', 'important', 'impossible', 'impression', 'impressive', 'improve', 'improved', 'inc', 'inch', 'include', 'included', 'includes', 'including', 'increase', 'indeed', 'independent', 'indiana', 'indians', 'indicate', 'indicated', 'indicates', 'individual', 'individuals', 'industrial', 'industry', 'infallible', 'infield', 'infinite', 'info', 'informatik', 'information', 'initial', 'inject', 'injured', 'injuries', 'injury', 'inning', 'innings', 'innocent', 'input', 'ins', 'insane', 'insert', 'inside', 'insist', 'inspired', 'install', 'installed', 'instance', 'instead', 'institute', 'instruction', 'instructions', 'intel', 'intelligence', 'intend', 'intended', 'intent', 'interest', 'interested', 'interesting', 'interface', 'interference', 'internal', 'internet', 'interpret', 'interpretation', 'interpretations', 'interpreted', 'interview', 'into', 'introduced', 'involve', 'involved', 'iowa', 'ip', 'irrelevant', 'isaiah', 'islam', 'island', 'isn', 'israel', 'issue', 'issues', 'ithaca', 'its', 'itself', 'jack', 'jackson', 'jail', 'james', 'japan', 'jason', 'jay', 'jayne', 'jays', 'jeesus', 'jeff', 'jek', 'jerry', 'jersey', 'jerusalem', 'jesus', 'jew', 'jewish', 'jews', 'jhu', 'jhunix', 'jim', 'job', 'jodfishe', 'joe', 'john', 'johnny', 'johns', 'johnson', 'join', 'joined', 'joke', 'jon', 'jonathan', 'jones', 'jose', 'joseph', 'joshua', 'journalism', 'joy', 'jr', 'jrogoff', 'juan', 'judaism', 'judge', 'judged', 'judgement', 'judging', 'july', 'jump', 'june', 'justice', 'justified', 'jwa', 'kansas', 'keep', 'keeping', 'keeps', 'keith', 'kelly', 'ken', 'kenneth', 'kent', 'kept', 'kevin', 'key', 'keyboard', 'keywords', 'kid', 'kids', 'kiefer', 'kill', 'killed', 'killing', 'kim', 'kimball', 'kind', 'kinda', 'kinds', 'king', 'kingdom', 'kingman', 'kings', 'kirby', 'kirsch', 'kit', 'knew', 'knowing', 'knowledge', 'known', 'knows', 'koresh', 'koufax', 'kozierok', 'kth', 'kulikauskas', 'kuo', 'la', 'lab', 'label', 'laboratories', 'laboratory', 'lack', 'lafayette', 'lafibm', 'laid', 'lake', 'lame', 'land', 'language', 'languages', 'lankford', 'large', 'largely', 'larger', 'largest', 'larry', 'laser', 'laserwriter', 'last', 'late', 'lately', 'later', 'latest', 'latin', 'latter', 'laugh', 'law', 'lawrence', 'laws', 'lay', 'lc', 'lciii', 'lead', 'leaders', 'leading', 'leads', 'league', 'leagues', 'learn', 'learned', 'learning', 'least', 'leave', 'leaves', 'leaving', 'led', 'lee', 'lefebvre', 'left', 'lefty', 'legal', 'legally', 'legitimate', 'leland', 'len', 'length', 'leo', 'less', 'let', 'letter', 'letters', 'level', 'lewis', 'lf', 'liberal', 'liberalizer', 'lie', 'lies', 'life', 'lifetime', 'light', 'liked', 'likely', 'limited', 'limits', 'lincoln', 'line', 'lineup', 'link', 'list', 'listed', 'listen', 'listening', 'lists', 'literal', 'literally', 'literature', 'little', 'liu', 'live', 'lived', 'lives', 'living', 'll', 'loaded', 'local', 'logic', 'logical', 'login', 'long', 'longer', 'look', 'looked', 'looking', 'looks', 'loop', 'lopez', 'lord', 'los', 'lose', 'losing', 'loss', 'lost', 'lot', 'lots', 'loud', 'louis', 'louisville', 'love', 'loved', 'loves', 'loving', 'low', 'lowenstein', 'lower', 'lowest', 'luck', 'lucky', 'ludwig', 'luis', 'luke', 'lurie', 'luriem', 'lustig', 'ma', 'mac', 'machine', 'machines', 'macintosh', 'macs', 'macuser', 'made', 'magazine', 'magnus', 'mail', 'mailer', 'mailing', 'main', 'mainly', 'maintain', 'major', 'majors', 'make', 'makes', 'making', 'male', 'man', 'managed', 'management', 'manager', 'mankind', 'manner', 'manual', 'manufacturer', 'many', 'marc', 'march', 'mariners', 'mark', 'marka', 'market', 'marlins', 'marriage', 'married', 'marry', 'martin', 'martinez', 'mary', 'maryland', 'mass', 'massachusetts', 'masses', 'master', 'material', 'math', 'mathematics', 'matt', 'matter', 'matters', 'matthew', 'mattingly', 'max', 'maximum', 'may', 'maybe', 'mb', 'mcdonald', 'mcovingt', 'md', 'mean', 'meaning', 'meaningless', 'means', 'meant', 'measure', 'mechanism', 'media', 'meet', 'meeting', 'meg', 'mel', 'mellon', 'member', 'members', 'memory', 'men', 'mental', 'mention', 'mentioned', 'mercy', 'mere', 'merely', 'mess', 'message', 'messages', 'messiah', 'met', 'method', 'methods', 'mets', 'mhz', 'mi', 'michael', 'michigan', 'microsoft', 'microsystems', 'mid', 'middle', 'midway', 'might', 'mike', 'mil', 'miller', 'million', 'milwaukee', 'mind', 'mindlink', 'minds', 'mine', 'minimum', 'ministry', 'minnesota', 'minor', 'minors', 'minute', 'minutes', 'misc', 'misleading', 'miss', 'missed', 'missing', 'mission', 'mistake', 'mistaken', 'mit', 'mitchell', 'mlb', 'mmalt', 'mo', 'mode', 'model', 'models', 'modem', 'modems', 'moderator', 'modern', 'molas', 'moment', 'mon', 'monash', 'monday', 'money', 'monitor', 'monitors', 'montana', 'month', 'months', 'montreal', 'moon', 'moore', 'moral', 'more', 'moreover', 'morgan', 'morning', 'morris', 'moses', 'most', 'mostly', 'mot', 'mother', 'motherboard', 'motorola', 'mount', 'mountain', 'mouse', 'mouth', 'move', 'moved', 'movement', 'moving', 'mozart', 'mr', 'ms', 'mss', 'msu', 'much', 'multiple', 'murphy', 'murray', 'music', 'muslims', 'mussack', 'mussina', 'must', 'mvp', 'myself', 'mystery', 'n4tmi', 'na', 'nada', 'name', 'named', 'namely', 'names', 'nasa', 'nation', 'national', 'nations', 'native', 'natural', 'nature', 'ncar', 'nd', 'near', 'nearly', 'nec', 'necessarily', 'necessary', 'need', 'needed', 'needs', 'negative', 'neither', 'net', 'netcom', 'netnews', 'netters', 'network', 'never', 'new', 'newer', 'news', 'newsgroup', 'newsgroups', 'newsreader', 'next', 'nextwork', 'nh', 'nice', 'nicely', 'nichols', 'night', 'nih', 'nimaster', 'nine', 'ninth', 'nj', 'njin', 'nl', 'nobody', 'node', 'noise', 'nolan', 'non', 'none', 'nor', 'normal', 'normally', 'north', 'northern', 'note', 'noted', 'notes', 'nothing', 'notice', 'noticed', 'notion', 'notre', 'nova', 'now', 'nowhere', 'noyes', 'ns', 'nt', 'nubus', 'number', 'numbers', 'numerous', 'nuntius', 'nwu', 'ny', 'nyx', 'nz', 'oakland', 'obedience', 'obey', 'objective', 'obp', 'observed', 'obtained', 'obvious', 'obviously', 'occasionally', 'occur', 'occured', 'occurred', 'occurs', 'ocf', 'odd', 'off', 'offense', 'offensive', 'offer', 'offered', 'offers', 'office', 'official', 'officially', 'often', 'oh', 'ohio', 'ok', 'okay', 'old', 'older', 'olerud', 'olson', 'once', 'ones', 'online', 'ontario', 'onto', 'open', 'opener', 'opening', 'operation', 'opinion', 'opinions', 'opportunity', 'opposed', 'opposing', 'opposite', 'option', 'optional', 'options', 'order', 'ordered', 'ordinary', 'oregon', 'org', 'oriented', 'original', 'originally', 'originator', 'orioles', 'orthodox', 'ot', 'other', 'others', 'otherwise', 'ought', 'our', 'ours', 'ourselves', 'outcome', 'outfield', 'output', 'outs', 'outside', 'over', 'overall', 'own', 'owners', 'oz', 'ozzie', 'pa', 'package', 'packard', 'padres', 'pagan', 'pagans', 'page', 'paid', 'pain', 'palmer', 'panel', 'panix', 'pantheism', 'papal', 'paper', 'paragraph', 'parallel', 'paraphrase', 'pardon', 'parents', 'park', 'part', 'participate', 'particular', 'particularly', 'parties', 'parts', 'party', 'pascal', 'pass', 'passage', 'passages', 'passed', 'passing', 'past', 'pastor', 'path', 'patrick', 'paul', 'pay', 'pb', 'pc', 'pds', 'peace', 'peak', 'pegasus', 'pennant', 'pennsylvania', 'pentium', 'people', 'per', 'percentage', 'perfect', 'perfectly', 'performance', 'performed', 'performing', 'perhaps', 'period', 'person', 'personal', 'personally', 'persons', 'perspective', 'petch', 'pete', 'peter', 'ph', 'phil', 'philadelphia', 'phillies', 'philly', 'philosophy', 'phils', 'phone', 'phrase', 'physical', 'physically', 'physics', 'pi', 'pick', 'picked', 'picks', 'picture', 'pictures', 'piece', 'pilot', 'pin', 'pinch', 'pins', 'pirates', 'pitch', 'pitched', 'pitcher', 'pitchers', 'pitches', 'pitching', 'pitt', 'pittsburgh', 'pixie', 'pl8', 'place', 'placed', 'places', 'plain', 'plan', 'planet', 'planning', 'plans', 'plate', 'platoon', 'play', 'played', 'player', 'players', 'playing', 'plays', 'pleasant', 'please', 'plenty', 'plug', 'plugged', 'plus', 'po', 'point', 'pointed', 'points', 'political', 'polytechnic', 'poor', 'pope', 'popular', 'port', 'portable', 'portion', 'ports', 'position', 'positions', 'positive', 'possibility', 'possible', 'possibly', 'post', 'posted', 'poster', 'postings', 'posts', 'potential', 'power', 'powerbook', 'powerful', 'powerpc', 'practical', 'practice', 'practices', 'praise', 'pray', 'prayer', 'prayers', 'praying', 'pre', 'preach', 'preached', 'precisely', 'predict', 'predicted', 'prediction', 'predictions', 'prefer', 'prepared', 'presence', 'present', 'presented', 'president', 'press', 'pressure', 'presumably', 'pretty', 'prevent', 'previous', 'previously', 'price', 'prices', 'pride', 'priest', 'priests', 'primarily', 'primary', 'prime', 'princeton', 'principles', 'print', 'printed', 'printer', 'printers', 'printing', 'prism', 'private', 'pro', 'probably', 'problem', 'problems', 'process', 'processor', 'produce', 'produced', 'product', 'production', 'productions', 'products', 'program', 'programs', 'project', 'promise', 'promised', 'prone', 'proof', 'proper', 'properly', 'prophecies', 'prophecy', 'prophet', 'prophets', 'prospect', 'protestant', 'prove', 'proved', 'proven', 'proverbs', 'provide', 'provided', 'providing', 'ps', 'psi', 'public', 'puckett', 'pull', 'pulled', 'punished', 'punishment', 'purchase', 'purchased', 'purdue', 'pure', 'purely', 'purpose', 'purposes', 'push', 'put', 'puts', 'putting', 'q700', 'q800', 'quadra', 'quadras', 'quality', 'quantum', 'question', 'questioning', 'questions', 'quick', 'quickdraw', 'quickly', 'quite', 'quote', 'quoted', 'quotes', 'r2d2', 'race', 'racking', 'radio', 'rain', 'raines', 'raised', 'ralph', 'ram', 'ran', 'random', 'randy', 'range', 'rangers', 'rank', 'rap', 'rate', 'rather', 'rating', 'rational', 'raw', 'ray', 'rbi', 'rbis', 'rc', 'reach', 'reaching', 'reaction', 'read', 'reader', 'readers', 'reading', 'ready', 'real', 'reality', 'realize', 'really', 'reardon', 'reason', 'reasonable', 'reasoning', 'reasons', 'rec', 'recall', 'receive', 'received', 'recent', 'recently', 'recognize', 'recognized', 'recommend', 'recommended', 'record', 'recorded', 'records', 'red', 'reds', 'reed', 'reedr', 'refer', 'reference', 'references', 'referring', 'refers', 'reflect', 'refuse', 'refused', 'regard', 'regarding', 'regardless', 'regards', 'regular', 'reject', 'rejected', 'rejecting', 'relate', 'related', 'relations', 'relationship', 'release', 'released', 'relevant', 'reliable', 'relief', 'religion', 'religions', 'religious', 'rely', 'remain', 'remains', 'remember', 'remind', 'remove', 'removed', 'removing', 'rep', 'repair', 'repeat', 'replace', 'replaced', 'replacement', 'replies', 'reply', 'report', 'reported', 'reports', 'represents', 'request', 'require', 'required', 'requirements', 'requires', 'research', 'reserve', 'resolution', 'respect', 'respond', 'responding', 'response', 'responses', 'responsibility', 'responsible', 'rest', 'result', 'results', 'resurrection', 'return', 'returned', 'returns', 'rev', 'revealed', 'revelation', 'revelations', 'rex', 'rexlex', 'rf', 'rich', 'richard', 'richmond', 'rick', 'rickey', 'rid', 'riddle', 'ridiculous', 'right', 'righteous', 'righteousness', 'rights', 'ripken', 'rise', 'risen', 'risk', 'road', 'rob', 'robert', 'roberts', 'robin', 'robinson', 'rochester', 'rock', 'rockies', 'rod', 'roger', 'rogers', 'rogoff', 'role', 'rom', 'roman', 'romans', 'rome', 'roms', 'ron', 'rookie', 'room', 'root', 'rose', 'roster', 'rotation', 'roush', 'row', 'roy', 'royal', 'royals', 'rpi', 'rule', 'rules', 'rumors', 'run', 'runner', 'runners', 'running', 'runs', 'rushed', 'rushing', 'russell', 'rutgers', 'ruth', 'rvesterm', 'ryan', 'sabbath', 'sacred', 'sad', 'safe', 'said', 'saint', 'sake', 'salary', 'sale', 'sales', 'salvation', 'sam', 'same', 'sample', 'san', 'sandberg', 'sandy', 'sas', 'sat', 'satan', 'satanic', 'saturday', 'save', 'saved', 'saves', 'savior', 'saw', 'say', 'saying', 'says', 'sb', 'sbp002', 'scale', 'scanner', 'schmidt', 'scholars', 'school', 'schools', 'sci', 'science', 'sciences', 'scientific', 'scientist', 'scientists', 'score', 'scored', 'scores', 'scoring', 'scott', 'screen', 'scripture', 'scriptures', 'scsi', 'se', 'sean', 'search', 'season', 'seasons', 'seats', 'seattle', 'second', 'seconds', 'section', 'secular', 'see', 'seeing', 'seek', 'seeking', 'seem', 'seemed', 'seems', 'seen', 'sees', 'select', 'self', 'sell', 'selling', 'send', 'sending', 'sense', 'senses', 'sent', 'sentence', 'separate', 'separated', 'sepinwal', 'sepinwall', 'serial', 'series', 'serious', 'seriously', 'serve', 'server', 'service', 'services', 'set', 'sets', 'setting', 'setup', 'seven', 'seventh', 'several', 'sex', 'sexual', 'sexually', 'sf', 'sgi', 'shall', 'shanti', 'shaped', 'share', 'sharing', 'shawn', 'she', 'sheffield', 'shell', 'sherri', 'shift', 'ship', 'shipping', 'short', 'shortstop', 'shortstops', 'shot', 'shots', 'should', 'shouldn', 'show', 'showed', 'showing', 'shown', 'shows', 'shut', 'si', 'sick', 'side', 'sides', 'sig', 'sight', 'sign', 'signal', 'signature', 'significant', 'signs', 'silent', 'silver', 'silverlining', 'similar', 'similarly', 'simm', 'simmons', 'simms', 'simon', 'simple', 'simply', 'sin', 'since', 'sincerely', 'singer', 'single', 'sinner', 'sinners', 'sins', 'sit', 'site', 'sitting', 'situation', 'situations', 'six', 'size', 'skidmore', 'slave', 'sledd', 'sleep', 'slg', 'slightly', 'slot', 'slots', 'slow', 'slower', 'small', 'smaller', 'smith', 'snichols', 'snow', 'soc', 'social', 'society', 'socket', 'soft', 'software', 'sold', 'soldered', 'solely', 'solid', 'solution', 'somebody', 'somehow', 'someone', 'something', 'sometime', 'sometimes', 'somewhat', 'somewhere', 'son', 'sony', 'soon', 'sooner', 'sorry', 'sort', 'soul', 'souls', 'sound', 'sounds', 'source', 'sources', 'south', 'southern', 'sox', 'space', 'spare', 'speak', 'speaker', 'speaking', 'speaks', 'special', 'specific', 'specifically', 'specs', 'speed', 'speeds', 'spend', 'spent', 'spira', 'spirit', 'spiritual', 'spiritually', 'split', 'spoke', 'sport', 'sports', 'spot', 'spread', 'spreading', 'spring', 'square', 'ss', 'ssd', 'st', 'stadium', 'staff', 'stan', 'stand', 'standard', 'standards', 'standing', 'standings', 'stands', 'stanford', 'stankowitz', 'star', 'start', 'started', 'starter', 'starters', 'starting', 'starts', 'startup', 'state', 'stated', 'statement', 'statements', 'states', 'station', 'statistics', 'stats', 'stay', 'std', 'stealing', 'step', 'steph', 'stephen', 'stephenson', 'steve', 'steven', 'stick', 'still', 'stock', 'stockholm', 'stolen', 'stone', 'stood', 'stop', 'stopped', 'stops', 'storage', 'store', 'stories', 'story', 'straight', 'strange', 'strawberry', 'streak', 'street', 'strength', 'strict', 'strike', 'strong', 'stronger', 'strongly', 'stuck', 'student', 'students', 'studies', 'study', 'stuff', 'stupid', 'style', 'su', 'sub', 'subjective', 'subscribe', 'substance', 'success', 'successful', 'such', 'suck', 'suddenly', 'suffer', 'suffered', 'suffering', 'sufficient', 'suggest', 'suggested', 'suggesting', 'suggestions', 'suggests', 'summary', 'summer', 'sun', 'sunday', 'super', 'supernatural', 'supply', 'support', 'supports', 'suppose', 'supposed', 'supposedly', 'supreme', 'sure', 'surely', 'surprise', 'surprised', 'surprises', 'suspect', 'sweden', 'sweep', 'swing', 'switch', 'syquest', 'sys', 'system', 'systems', 'take', 'taken', 'takes', 'taking', 'talent', 'talk', 'talked', 'talking', 'talks', 'tape', 'task', 'tate', 'taught', 'tc', 'teach', 'teaches', 'teaching', 'teachings', 'team', 'teams', 'tech', 'technical', 'technologies', 'technology', 'ted', 'tedward', 'tek', 'tell', 'telling', 'tells', 'temple', 'ten', 'tend', 'tends', 'term', 'terms', 'terrible', 'terry', 'test', 'testament', 'testimony', 'texas', 'text', 'texts', 'than', 'thank', 'thanks', 'their', 'theist', 'them', 'themselves', 'then', 'theological', 'theology', 'theories', 'theory', 'therefore', 'these', 'thf2', 'thing', 'things', 'thinking', 'thinks', 'third', 'thomas', 'thor', 'those', 'thou', 'though', 'thought', 'thoughts', 'thread', 'threat', 'three', 'threw', 'through', 'throughout', 'throw', 'throwing', 'thrown', 'thru', 'thursday', 'thus', 'tie', 'tied', 'tiger', 'tigers', 'tim', 'time', 'times', 'timing', 'timothy', 'tin', 'tired', 'title', 'today', 'todd', 'together', 'told', 'tom', 'tomorrow', 'tonight', 'tony', 'too', 'took', 'tool', 'tools', 'top', 'topic', 'topics', 'toronto', 'torre', 'total', 'totally', 'totals', 'touch', 'tough', 'toward', 'towards', 'town', 'track', 'trade', 'tradition', 'traditional', 'traditions', 'training', 'transfer', 'translation', 'treat', 'treated', 'tried', 'trinity', 'trol', 'trouble', 'true', 'truly', 'trust', 'truth', 'truths', 'try', 'trying', 'tte', 'tue', 'tuesday', 'turn', 'turned', 'turning', 'turns', 'tv', 'twice', 'twins', 'two', 'tx', 'type', 'types', 'typical', 'uc', 'uchicago', 'ucs', 'ucsd', 'udel', 'ug', 'uga', 'uh', 'uiuc', 'uk', 'ulkyvx', 'ultimate', 'ultimately', 'umich', 'umn', 'un', 'unable', 'under', 'understand', 'understanding', 'understood', 'unfair', 'unfortunately', 'uni', 'uniforms', 'unit', 'united', 'units', 'unity', 'univ', 'universal', 'universe', 'unix', 'unless', 'unlike', 'unlikely', 'unomaha', 'until', 'unto', 'unusual', 'update', 'updated', 'updatedir', 'upenn', 'upgrade', 'upgraded', 'upgrades', 'upgrading', 'upon', 'upset', 'urbana', 'us', 'usa', 'usc', 'use', 'used', 'useful', 'useless', 'usenet', 'user', 'useragent', 'users', 'uses', 'using', 'usual', 'usually', 'utexas', 'utterly', 'uu', 'uucp', 'uunet', 'ux', 'ux4', 'uxa', 'v1', 'valentine', 'valid', 'valley', 'valuable', 'value', 'values', 'variety', 'various', 'vax', 'vaxc', 'vb30', 'vbv', 'vcu', 've', 'vela', 'velasco', 'vera', 'verse', 'verses', 'version', 'versions', 'vertical', 'very', 'vesterman', 'vga', 'via', 'vice', 'video', 'view', 'views', 'village', 'viola', 'virgilio', 'virgin', 'virginia', 'virtually', 'visible', 'vma', 'vms', 'vnet', 'vnews', 'voice', 'vram', 'vs', 'wa', 'waco', 'wade', 'wagner', 'wait', 'waiting', 'wake', 'walk', 'walker', 'walking', 'walks', 'wall', 'want', 'wanted', 'wants', 'war', 'warning', 'warranty', 'wars', 'washington', 'wasn', 'waste', 'watch', 'watching', 'water', 'watson', 'way', 'ways', 'weak', 'weakness', 'wearing', 'week', 'weekend', 'weekly', 'weeks', 'weight', 'welcome', 'well', 'went', 'were', 'weren', 'west', 'western', 'wfan', 'whatever', 'whatsoever', 'whenever', 'where', 'whereas', 'whether', 'which', 'while', 'white', 'whoever', 'whole', 'whom', 'whose', 'why', 'wide', 'wife', 'william', 'williams', 'willing', 'win', 'wind', 'window', 'windows', 'winfield', 'winning', 'wins', 'winter', 'wisdom', 'wise', 'wish', 'within', 'without', 'witness', 'witnesses', 'woman', 'women', 'won', 'wonder', 'wonderful', 'wondering', 'wood', 'word', 'words', 'work', 'worked', 'working', 'works', 'world', 'worry', 'worse', 'worship', 'worst', 'worth', 'worthy', 'wouldn', 'wright', 'wrigley', 'write', 'writer', 'writers', 'writing', 'writings', 'written', 'wrong', 'wrote', 'wtte', 'wustl', 'x86', 'ximenez', 'xxdate', 'xxmessage', 'yale', 'yankee', 'yankees', 'yanks', 'ye', 'yeah', 'year', 'years', 'yes', 'yesterday', 'yet', 'york', 'young', 'younger', 'yount', 'your', 'yours', 'yourself', 'yourselves', 'yup', 'z1', 'z5', 'zone']\n"
     ]
    }
   ],
   "source": [
    "print(vectorizer.get_feature_names())"
   ]
  },
  {
   "cell_type": "markdown",
   "metadata": {},
   "source": [
    "### KMeans"
   ]
  },
  {
   "cell_type": "code",
   "execution_count": 15,
   "metadata": {},
   "outputs": [],
   "source": [
    "from sklearn.cluster import KMeans"
   ]
  },
  {
   "cell_type": "code",
   "execution_count": 16,
   "metadata": {},
   "outputs": [],
   "source": [
    "model = KMeans(n_clusters=3, random_state=42)\n",
    "preds = model.fit_predict(matrix.toarray())"
   ]
  },
  {
   "cell_type": "code",
   "execution_count": 17,
   "metadata": {},
   "outputs": [
    {
     "data": {
      "text/plain": [
       "array([2, 1, 1, ..., 0, 0, 0], dtype=int32)"
      ]
     },
     "execution_count": 17,
     "metadata": {},
     "output_type": "execute_result"
    }
   ],
   "source": [
    "preds"
   ]
  },
  {
   "cell_type": "code",
   "execution_count": 18,
   "metadata": {},
   "outputs": [
    {
     "data": {
      "text/plain": [
       "array([1, 2, 2, ..., 0, 0, 0])"
      ]
     },
     "execution_count": 18,
     "metadata": {},
     "output_type": "execute_result"
    }
   ],
   "source": [
    "dataset.target #кластеры поменяны местами "
   ]
  },
  {
   "cell_type": "code",
   "execution_count": 19,
   "metadata": {},
   "outputs": [
    {
     "data": {
      "text/plain": [
       "0.06144306651634724"
      ]
     },
     "execution_count": 19,
     "metadata": {},
     "output_type": "execute_result"
    }
   ],
   "source": [
    "mapping = {2:1, 1:2, 0:0}\n",
    "mapped_preds = [mapping[pred] for pred in preds]\n",
    "float(sum(mapped_preds != dataset.target))/len(dataset.target)# ошибка"
   ]
  }
 ],
 "metadata": {
  "kernelspec": {
   "display_name": "Python 3",
   "language": "python",
   "name": "python3"
  },
  "language_info": {
   "codemirror_mode": {
    "name": "ipython",
    "version": 3
   },
   "file_extension": ".py",
   "mimetype": "text/x-python",
   "name": "python",
   "nbconvert_exporter": "python",
   "pygments_lexer": "ipython3",
   "version": "3.7.4"
  }
 },
 "nbformat": 4,
 "nbformat_minor": 2
}
